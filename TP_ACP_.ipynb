{
  "nbformat": 4,
  "nbformat_minor": 0,
  "metadata": {
    "colab": {
      "provenance": [],
      "collapsed_sections": [
        "h1mwbuYefzdn",
        "8pcP0uSjxuld",
        "e9HE_LI5Mzk3",
        "vPAn_cGo3Iuz"
      ],
      "include_colab_link": true
    },
    "kernelspec": {
      "name": "python3",
      "display_name": "Python 3"
    },
    "language_info": {
      "name": "python"
    }
  },
  "cells": [
    {
      "cell_type": "markdown",
      "metadata": {
        "id": "view-in-github",
        "colab_type": "text"
      },
      "source": [
        "<a href=\"https://colab.research.google.com/github/maxant38/Isolation_forest/blob/main/TP_ACP_.ipynb\" target=\"_parent\"><img src=\"https://colab.research.google.com/assets/colab-badge.svg\" alt=\"Open In Colab\"/></a>"
      ]
    },
    {
      "cell_type": "markdown",
      "source": [
        "TP ACP \n",
        "\n",
        "\n"
      ],
      "metadata": {
        "id": "M-2ziU_LX-44"
      }
    },
    {
      "cell_type": "markdown",
      "source": [
        "# **Partie 1 – L’ACP sur l’espace de variables ℝp**"
      ],
      "metadata": {
        "id": "uNfgQuuefsYz"
      }
    },
    {
      "cell_type": "markdown",
      "source": [
        "# **Q1)**"
      ],
      "metadata": {
        "id": "h1mwbuYefzdn"
      }
    },
    {
      "cell_type": "markdown",
      "source": [
        "**Importation des données et des librairies**"
      ],
      "metadata": {
        "id": "ZXxNPoWMu2Xk"
      }
    },
    {
      "cell_type": "code",
      "source": [
        "from google.colab import drive\n",
        "drive.mount('/content/drive')"
      ],
      "metadata": {
        "colab": {
          "base_uri": "https://localhost:8080/",
          "height": 349
        },
        "id": "5n5Xyud7wCa2",
        "outputId": "56680a81-28df-413d-eaf5-2b9012536e8f"
      },
      "execution_count": null,
      "outputs": [
        {
          "output_type": "error",
          "ename": "MessageError",
          "evalue": "ignored",
          "traceback": [
            "\u001b[0;31m---------------------------------------------------------------------------\u001b[0m",
            "\u001b[0;31mMessageError\u001b[0m                              Traceback (most recent call last)",
            "\u001b[0;32m<ipython-input-1-d5df0069828e>\u001b[0m in \u001b[0;36m<module>\u001b[0;34m\u001b[0m\n\u001b[1;32m      1\u001b[0m \u001b[0;32mfrom\u001b[0m \u001b[0mgoogle\u001b[0m\u001b[0;34m.\u001b[0m\u001b[0mcolab\u001b[0m \u001b[0;32mimport\u001b[0m \u001b[0mdrive\u001b[0m\u001b[0;34m\u001b[0m\u001b[0;34m\u001b[0m\u001b[0m\n\u001b[0;32m----> 2\u001b[0;31m \u001b[0mdrive\u001b[0m\u001b[0;34m.\u001b[0m\u001b[0mmount\u001b[0m\u001b[0;34m(\u001b[0m\u001b[0;34m'/content/drive'\u001b[0m\u001b[0;34m)\u001b[0m\u001b[0;34m\u001b[0m\u001b[0;34m\u001b[0m\u001b[0m\n\u001b[0m",
            "\u001b[0;32m/usr/local/lib/python3.7/dist-packages/google/colab/drive.py\u001b[0m in \u001b[0;36mmount\u001b[0;34m(mountpoint, force_remount, timeout_ms, readonly)\u001b[0m\n\u001b[1;32m    104\u001b[0m       \u001b[0mtimeout_ms\u001b[0m\u001b[0;34m=\u001b[0m\u001b[0mtimeout_ms\u001b[0m\u001b[0;34m,\u001b[0m\u001b[0;34m\u001b[0m\u001b[0;34m\u001b[0m\u001b[0m\n\u001b[1;32m    105\u001b[0m       \u001b[0mephemeral\u001b[0m\u001b[0;34m=\u001b[0m\u001b[0;32mTrue\u001b[0m\u001b[0;34m,\u001b[0m\u001b[0;34m\u001b[0m\u001b[0;34m\u001b[0m\u001b[0m\n\u001b[0;32m--> 106\u001b[0;31m       readonly=readonly)\n\u001b[0m\u001b[1;32m    107\u001b[0m \u001b[0;34m\u001b[0m\u001b[0m\n\u001b[1;32m    108\u001b[0m \u001b[0;34m\u001b[0m\u001b[0m\n",
            "\u001b[0;32m/usr/local/lib/python3.7/dist-packages/google/colab/drive.py\u001b[0m in \u001b[0;36m_mount\u001b[0;34m(mountpoint, force_remount, timeout_ms, ephemeral, readonly)\u001b[0m\n\u001b[1;32m    123\u001b[0m   \u001b[0;32mif\u001b[0m \u001b[0mephemeral\u001b[0m\u001b[0;34m:\u001b[0m\u001b[0;34m\u001b[0m\u001b[0;34m\u001b[0m\u001b[0m\n\u001b[1;32m    124\u001b[0m     _message.blocking_request(\n\u001b[0;32m--> 125\u001b[0;31m         'request_auth', request={'authType': 'dfs_ephemeral'}, timeout_sec=None)\n\u001b[0m\u001b[1;32m    126\u001b[0m \u001b[0;34m\u001b[0m\u001b[0m\n\u001b[1;32m    127\u001b[0m   \u001b[0mmountpoint\u001b[0m \u001b[0;34m=\u001b[0m \u001b[0m_os\u001b[0m\u001b[0;34m.\u001b[0m\u001b[0mpath\u001b[0m\u001b[0;34m.\u001b[0m\u001b[0mexpanduser\u001b[0m\u001b[0;34m(\u001b[0m\u001b[0mmountpoint\u001b[0m\u001b[0;34m)\u001b[0m\u001b[0;34m\u001b[0m\u001b[0;34m\u001b[0m\u001b[0m\n",
            "\u001b[0;32m/usr/local/lib/python3.7/dist-packages/google/colab/_message.py\u001b[0m in \u001b[0;36mblocking_request\u001b[0;34m(request_type, request, timeout_sec, parent)\u001b[0m\n\u001b[1;32m    169\u001b[0m   request_id = send_request(\n\u001b[1;32m    170\u001b[0m       request_type, request, parent=parent, expect_reply=True)\n\u001b[0;32m--> 171\u001b[0;31m   \u001b[0;32mreturn\u001b[0m \u001b[0mread_reply_from_input\u001b[0m\u001b[0;34m(\u001b[0m\u001b[0mrequest_id\u001b[0m\u001b[0;34m,\u001b[0m \u001b[0mtimeout_sec\u001b[0m\u001b[0;34m)\u001b[0m\u001b[0;34m\u001b[0m\u001b[0;34m\u001b[0m\u001b[0m\n\u001b[0m",
            "\u001b[0;32m/usr/local/lib/python3.7/dist-packages/google/colab/_message.py\u001b[0m in \u001b[0;36mread_reply_from_input\u001b[0;34m(message_id, timeout_sec)\u001b[0m\n\u001b[1;32m    100\u001b[0m         reply.get('colab_msg_id') == message_id):\n\u001b[1;32m    101\u001b[0m       \u001b[0;32mif\u001b[0m \u001b[0;34m'error'\u001b[0m \u001b[0;32min\u001b[0m \u001b[0mreply\u001b[0m\u001b[0;34m:\u001b[0m\u001b[0;34m\u001b[0m\u001b[0;34m\u001b[0m\u001b[0m\n\u001b[0;32m--> 102\u001b[0;31m         \u001b[0;32mraise\u001b[0m \u001b[0mMessageError\u001b[0m\u001b[0;34m(\u001b[0m\u001b[0mreply\u001b[0m\u001b[0;34m[\u001b[0m\u001b[0;34m'error'\u001b[0m\u001b[0;34m]\u001b[0m\u001b[0;34m)\u001b[0m\u001b[0;34m\u001b[0m\u001b[0;34m\u001b[0m\u001b[0m\n\u001b[0m\u001b[1;32m    103\u001b[0m       \u001b[0;32mreturn\u001b[0m \u001b[0mreply\u001b[0m\u001b[0;34m.\u001b[0m\u001b[0mget\u001b[0m\u001b[0;34m(\u001b[0m\u001b[0;34m'data'\u001b[0m\u001b[0;34m,\u001b[0m \u001b[0;32mNone\u001b[0m\u001b[0;34m)\u001b[0m\u001b[0;34m\u001b[0m\u001b[0;34m\u001b[0m\u001b[0m\n\u001b[1;32m    104\u001b[0m \u001b[0;34m\u001b[0m\u001b[0m\n",
            "\u001b[0;31mMessageError\u001b[0m: Error: credential propagation was unsuccessful"
          ]
        }
      ]
    },
    {
      "cell_type": "code",
      "source": [
        "import numpy as np\n",
        "import pandas as pd \n",
        "import matplotlib.pyplot as plt\n",
        "import seaborn as sns\n",
        "from sklearn.preprocessing import StandardScaler\n",
        "from sklearn.decomposition import PCA"
      ],
      "metadata": {
        "id": "kOQVxVzlvMCE"
      },
      "execution_count": null,
      "outputs": []
    },
    {
      "cell_type": "code",
      "source": [
        "def vizualise_matrix(path):\n",
        "\n",
        "    df = pd.read_csv(path, sep=\";\")\n",
        "\n",
        "    df = df.iloc[: , 1:] # on enlève la dernière colonne car elle est vide en raisond des ; à la fin des lignes\n",
        "    df = df.iloc[: , :-1] # on enlève la dernière colonne car elle est vide en raisond des ; à la fin des lignes\n",
        "\n",
        "    return df"
      ],
      "metadata": {
        "id": "MLMKhSIRYO7u"
      },
      "execution_count": null,
      "outputs": []
    },
    {
      "cell_type": "code",
      "source": [
        "df = vizualise_matrix('drive/MyDrive/data_PDE20.csv')"
      ],
      "metadata": {
        "id": "VAjpVEYULvb2",
        "colab": {
          "base_uri": "https://localhost:8080/",
          "height": 167
        },
        "outputId": "dd5dae3e-3449-4614-f490-8557c988d0b4"
      },
      "execution_count": null,
      "outputs": [
        {
          "output_type": "error",
          "ename": "NameError",
          "evalue": "ignored",
          "traceback": [
            "\u001b[0;31m---------------------------------------------------------------------------\u001b[0m",
            "\u001b[0;31mNameError\u001b[0m                                 Traceback (most recent call last)",
            "\u001b[0;32m<ipython-input-2-e5080caa8ca3>\u001b[0m in \u001b[0;36m<module>\u001b[0;34m\u001b[0m\n\u001b[0;32m----> 1\u001b[0;31m \u001b[0mdf\u001b[0m \u001b[0;34m=\u001b[0m \u001b[0mvizualise_matrix\u001b[0m\u001b[0;34m(\u001b[0m\u001b[0;34m'drive/MyDrive/data_PDE20.csv'\u001b[0m\u001b[0;34m)\u001b[0m\u001b[0;34m\u001b[0m\u001b[0;34m\u001b[0m\u001b[0m\n\u001b[0m",
            "\u001b[0;31mNameError\u001b[0m: name 'vizualise_matrix' is not defined"
          ]
        }
      ]
    },
    {
      "cell_type": "markdown",
      "source": [
        "**Calcul des indicateurs statistiques**"
      ],
      "metadata": {
        "id": "Fr36I8fXu6HM"
      }
    },
    {
      "cell_type": "code",
      "source": [
        "def calcul_indicateurs_statistiques(matrice):\n",
        "  resultat = {}\n",
        "  resultat[\"ecart-type\"]  = matrice.std()\n",
        "  resultat[\"variance\"]   = matrice.var()\n",
        "  resultat[\"covariance\"] = matrice.cov() \n",
        "  return resultat"
      ],
      "metadata": {
        "id": "i3uhqclqFKtX"
      },
      "execution_count": null,
      "outputs": []
    },
    {
      "cell_type": "code",
      "source": [
        "resultats_indicateurs_stat  = calcul_indicateurs_statistiques(df)\n",
        " # on affiche la matrice de covariance pour l'exemple\n",
        "plt.figure(figsize=(10,10))\n",
        "sns.heatmap(resultats_indicateurs_stat[\"covariance\"], vmax=1, square=True,annot=True)\n",
        "plt.title('Matrice de covariance')"
      ],
      "metadata": {
        "colab": {
          "base_uri": "https://localhost:8080/"
        },
        "id": "GRooyCpxF3i9",
        "outputId": "71764492-d99a-4f9f-c251-93cfcc35155d"
      },
      "execution_count": null,
      "outputs": [
        {
          "output_type": "execute_result",
          "data": {
            "text/plain": [
              "Text(0.5, 1.0, 'Matrice de covariance')"
            ]
          },
          "metadata": {},
          "execution_count": 6
        },
        {
          "output_type": "display_data",
          "data": {
            "text/plain": [
              "<Figure size 720x720 with 2 Axes>"
            ],
            "image/png": "[encoded data removed]"
          },
          "metadata": {
            "needs_background": "light"
          }
        }
      ]
    },
    {
      "cell_type": "markdown",
      "source": [
        "# **Q2)**"
      ],
      "metadata": {
        "id": "opLuKoSgO7Y9"
      }
    },
    {
      "cell_type": "markdown",
      "source": [
        "# ***En utilisant la librairie Sklearn***"
      ],
      "metadata": {
        "id": "8pcP0uSjxuld"
      }
    },
    {
      "cell_type": "markdown",
      "source": [
        "## ***ACP CENTREE***"
      ],
      "metadata": {
        "id": "fVy4w_jyY9lz"
      }
    },
    {
      "cell_type": "markdown",
      "source": [
        "**Centrer le nuage**"
      ],
      "metadata": {
        "id": "go5shvQ2yrEc"
      }
    },
    {
      "cell_type": "code",
      "source": [
        "def centrer_data(matrice):\n",
        "  return matrice.apply(lambda x: x -x.mean())"
      ],
      "metadata": {
        "id": "kUh6Y4lSXhGi"
      },
      "execution_count": null,
      "outputs": []
    },
    {
      "cell_type": "code",
      "source": [
        "df_centre = centrer_data(df)"
      ],
      "metadata": {
        "id": "TgmjkTNSYD5g"
      },
      "execution_count": null,
      "outputs": []
    },
    {
      "cell_type": "code",
      "source": [
        "#vérification \n",
        "#moyenne\n",
        "print(np.mean(df_centre,axis=0))"
      ],
      "metadata": {
        "colab": {
          "base_uri": "https://localhost:8080/"
        },
        "id": "RKFK-Wu_Yunz",
        "outputId": "b398b20c-c300-4c98-d7fa-48079f183410"
      },
      "execution_count": null,
      "outputs": [
        {
          "output_type": "stream",
          "name": "stdout",
          "text": [
            "X1    1.749028e-14\n",
            "X2    5.465713e-16\n",
            "X3   -3.416071e-17\n",
            "X4    2.562053e-16\n",
            "X5    1.311771e-14\n",
            "X6   -1.366428e-15\n",
            "X7   -1.093143e-14\n",
            "X8    0.000000e+00\n",
            "dtype: float64\n"
          ]
        }
      ]
    },
    {
      "cell_type": "markdown",
      "source": [
        "On va normer notre jeu de données pour éviter de gonfler l'impact des variables à forte variance sur le résultat."
      ],
      "metadata": {
        "id": "d9Dzw32xY0up"
      }
    },
    {
      "cell_type": "markdown",
      "source": [
        "**Recherche des hyperplans**"
      ],
      "metadata": {
        "id": "LauHe1XFY0ur"
      }
    },
    {
      "cell_type": "code",
      "source": [
        "#classe pour l'ACP\n",
        "from sklearn.decomposition import PCA\n",
        "#instanciation\n",
        "acp = PCA()\n",
        "#calculs\n",
        "df_acp = acp.fit_transform(df_centre)\n",
        "#nombre de composantes calculées\n",
        "print(acp.n_components_) "
      ],
      "metadata": {
        "colab": {
          "base_uri": "https://localhost:8080/"
        },
        "outputId": "83f28d78-2035-44e1-b2a3-d82eb96b5839",
        "id": "WTfGCmTtY0us"
      },
      "execution_count": null,
      "outputs": [
        {
          "output_type": "stream",
          "name": "stdout",
          "text": [
            "8\n"
          ]
        }
      ]
    },
    {
      "cell_type": "markdown",
      "source": [
        "Commentaires :\n",
        "Le paramètre (svd_solver = ‘full’) indique l’algorithme utilisé pour la décomposition en valeurs singulières. Nous choisissons la méthode ‘’exacte’’, sélectionnée de toute manière par défaut pour l’appréhension des bases de taille réduite (car notre dataset a moins de 100 lignes et 10 colonnes). D’autres approches sont disponibles pour le traitement des grands ensembles de données. Le nombre de composantes (K) n’étant pas spécifié (n_components = None), il est par défaut égal au nombre de variables (K = 8)."
      ],
      "metadata": {
        "id": "RGkSrZqXY0us"
      }
    },
    {
      "cell_type": "markdown",
      "source": [
        "**Vecteur propre & Lambda**"
      ],
      "metadata": {
        "id": "mcfjWFWIY0ut"
      }
    },
    {
      "cell_type": "code",
      "source": [
        "vecteur_propre = acp.components_ \n",
        "print(vecteur_propre)\n",
        "#Axes principaux dans l'espace des caractéristiques, représentant les directions de variance maximale dans les données. \n",
        "#Équivalemment, les vecteurs singuliers droits des données d'entrée centrées, parallèles à ses vecteurs propres.\n",
        "# Les composantes sont triées par importance de variable expliqué"
      ],
      "metadata": {
        "colab": {
          "base_uri": "https://localhost:8080/"
        },
        "outputId": "63284523-3280-4370-baad-f2c59db5cefd",
        "id": "2Rh2Z13mY0ut"
      },
      "execution_count": null,
      "outputs": [
        {
          "output_type": "stream",
          "name": "stdout",
          "text": [
            "[[ 0.60539275 -0.0500844  -0.01037248  0.00983482  0.28056514 -0.06079617\n",
            "  -0.59148925 -0.4455495 ]\n",
            " [-0.46057585  0.14552702  0.01695906 -0.02415864  0.08615008 -0.04896435\n",
            "   0.19903558 -0.8463959 ]\n",
            " [ 0.35899134 -0.1926523   0.02300344 -0.0688537  -0.01138128 -0.75555925\n",
            "   0.50349122 -0.06509683]\n",
            " [ 0.29692386 -0.56450104 -0.10113215  0.08740193 -0.38575855  0.51119286\n",
            "   0.31388479 -0.25817924]\n",
            " [ 0.22595129  0.60463347 -0.30845313  0.1406196  -0.67045162 -0.07952234\n",
            "  -0.04426669 -0.10323986]\n",
            " [ 0.00606195 -0.01097164  0.6406441  -0.62348321 -0.411776   -0.01822077\n",
            "  -0.16676658 -0.05462725]\n",
            " [ 0.39108498  0.50375854  0.23129433 -0.15102139  0.36858932  0.39037608\n",
            "   0.47814368  0.01011853]\n",
            " [ 0.01711004  0.03259484  0.65557811  0.74540396 -0.09999618 -0.05166338\n",
            "  -0.01030685 -0.02145974]]\n"
          ]
        }
      ]
    },
    {
      "cell_type": "code",
      "source": [
        "lambdas = acp.singular_values_ #Les valeurs singulières correspondant à chacune des composantes sélectionnées.\n",
        "print(lambdas)"
      ],
      "metadata": {
        "colab": {
          "base_uri": "https://localhost:8080/"
        },
        "outputId": "909aa452-adcc-498f-d2ec-996a0e97b4ac",
        "id": "iEr2Vbf5Y0uu"
      },
      "execution_count": null,
      "outputs": [
        {
          "output_type": "stream",
          "name": "stdout",
          "text": [
            "[153.77351013  95.57347835  78.09789201  39.74254592  22.02262923\n",
            "  11.65914518   9.38633214   4.87209219]\n"
          ]
        }
      ]
    },
    {
      "cell_type": "markdown",
      "source": [
        "**Variance**"
      ],
      "metadata": {
        "id": "jN6J1-HOY0uv"
      }
    },
    {
      "cell_type": "markdown",
      "source": [
        "On peut s'assurer que l'on a bien calculer toutes les composantes en regardant le pourcentage de variable expliqué ( qui devrait être de 100%)."
      ],
      "metadata": {
        "id": "32Y3ZjaWY0uv"
      }
    },
    {
      "cell_type": "code",
      "source": [
        "print(\"Variance expliquée par les 8 composantes principales = \", int(sum(acp.explained_variance_ratio_ * 100)), \"%\")"
      ],
      "metadata": {
        "colab": {
          "base_uri": "https://localhost:8080/"
        },
        "outputId": "9391e44a-c3b4-4dc9-96c8-ee5d5dc66fa9",
        "id": "8hIR9J9PY0uw"
      },
      "execution_count": null,
      "outputs": [
        {
          "output_type": "stream",
          "name": "stdout",
          "text": [
            "Variance expliquée par les 8 composantes principales =  100 %\n"
          ]
        }
      ]
    },
    {
      "cell_type": "markdown",
      "source": [
        "On peut afficher les variances expliqués par chacune des composantes principales :"
      ],
      "metadata": {
        "id": "SVlq2uxuY0uw"
      }
    },
    {
      "cell_type": "code",
      "source": [
        "exp_var_acp = acp.explained_variance_ratio_\n",
        "print(exp_var_acp)\n"
      ],
      "metadata": {
        "colab": {
          "base_uri": "https://localhost:8080/"
        },
        "outputId": "20f4dda3-f9ad-4db1-836a-6e22b5488174",
        "id": "o0_G1HnrY0ux"
      },
      "execution_count": null,
      "outputs": [
        {
          "output_type": "stream",
          "name": "stdout",
          "text": [
            "[0.57404914 0.22174855 0.14806917 0.038344   0.01177401 0.00330004\n",
            " 0.00213884 0.00057626]\n"
          ]
        }
      ]
    },
    {
      "cell_type": "markdown",
      "source": [
        "On peut regrouper toutes ces données dans un dataframe."
      ],
      "metadata": {
        "id": "kfmJwWa3Y0uy"
      }
    },
    {
      "cell_type": "code",
      "source": [
        "list_acp = [\"CP1\",\"CP2\",\"CP3\",\"CP4\",\"CP5\",\"CP6\",\"CP7\",\"CP8\"]\n",
        "df_acp_variance= pd.DataFrame(list_acp, columns = [\"ACP\"])\n",
        "df_acp_variance['variance_explique'] = acp.explained_variance_\n",
        "df_acp_variance"
      ],
      "metadata": {
        "colab": {
          "base_uri": "https://localhost:8080/",
          "height": 300
        },
        "outputId": "8a2410d0-86fe-4d46-d45f-73acca94e0a3",
        "id": "aaDUmkuPY0uy"
      },
      "execution_count": null,
      "outputs": [
        {
          "output_type": "execute_result",
          "data": {
            "text/plain": [
              "   ACP  variance_explique\n",
              "0  CP1         945.851697\n",
              "1  CP2         365.371591\n",
              "2  CP3         243.971229\n",
              "3  CP4          63.178798\n",
              "4  CP5          19.399848\n",
              "5  CP6           5.437427\n",
              "6  CP7           3.524129\n",
              "7  CP8           0.949491"
            ],
            "text/html": [
              "\n",
              "  <div id=\"df-3df93f54-00ca-4022-94f6-1a0ba4bc0620\">\n",
              "    <div class=\"colab-df-container\">\n",
              "      <div>\n",
              "<style scoped>\n",
              "    .dataframe tbody tr th:only-of-type {\n",
              "        vertical-align: middle;\n",
              "    }\n",
              "\n",
              "    .dataframe tbody tr th {\n",
              "        vertical-align: top;\n",
              "    }\n",
              "\n",
              "    .dataframe thead th {\n",
              "        text-align: right;\n",
              "    }\n",
              "</style>\n",
              "<table border=\"1\" class=\"dataframe\">\n",
              "  <thead>\n",
              "    <tr style=\"text-align: right;\">\n",
              "      <th></th>\n",
              "      <th>ACP</th>\n",
              "      <th>variance_explique</th>\n",
              "    </tr>\n",
              "  </thead>\n",
              "  <tbody>\n",
              "    <tr>\n",
              "      <th>0</th>\n",
              "      <td>CP1</td>\n",
              "      <td>945.851697</td>\n",
              "    </tr>\n",
              "    <tr>\n",
              "      <th>1</th>\n",
              "      <td>CP2</td>\n",
              "      <td>365.371591</td>\n",
              "    </tr>\n",
              "    <tr>\n",
              "      <th>2</th>\n",
              "      <td>CP3</td>\n",
              "      <td>243.971229</td>\n",
              "    </tr>\n",
              "    <tr>\n",
              "      <th>3</th>\n",
              "      <td>CP4</td>\n",
              "      <td>63.178798</td>\n",
              "    </tr>\n",
              "    <tr>\n",
              "      <th>4</th>\n",
              "      <td>CP5</td>\n",
              "      <td>19.399848</td>\n",
              "    </tr>\n",
              "    <tr>\n",
              "      <th>5</th>\n",
              "      <td>CP6</td>\n",
              "      <td>5.437427</td>\n",
              "    </tr>\n",
              "    <tr>\n",
              "      <th>6</th>\n",
              "      <td>CP7</td>\n",
              "      <td>3.524129</td>\n",
              "    </tr>\n",
              "    <tr>\n",
              "      <th>7</th>\n",
              "      <td>CP8</td>\n",
              "      <td>0.949491</td>\n",
              "    </tr>\n",
              "  </tbody>\n",
              "</table>\n",
              "</div>\n",
              "      <button class=\"colab-df-convert\" onclick=\"convertToInteractive('df-3df93f54-00ca-4022-94f6-1a0ba4bc0620')\"\n",
              "              title=\"Convert this dataframe to an interactive table.\"\n",
              "              style=\"display:none;\">\n",
              "        \n",
              "  <svg xmlns=\"http://www.w3.org/2000/svg\" height=\"24px\"viewBox=\"0 0 24 24\"\n",
              "       width=\"24px\">\n",
              "    <path d=\"M0 0h24v24H0V0z\" fill=\"none\"/>\n",
              "    <path d=\"M18.56 5.44l.94 2.06.94-2.06 2.06-.94-2.06-.94-.94-2.06-.94 2.06-2.06.94zm-11 1L8.5 8.5l.94-2.06 2.06-.94-2.06-.94L8.5 2.5l-.94 2.06-2.06.94zm10 10l.94 2.06.94-2.06 2.06-.94-2.06-.94-.94-2.06-.94 2.06-2.06.94z\"/><path d=\"M17.41 7.96l-1.37-1.37c-.4-.4-.92-.59-1.43-.59-.52 0-1.04.2-1.43.59L10.3 9.45l-7.72 7.72c-.78.78-.78 2.05 0 2.83L4 21.41c.39.39.9.59 1.41.59.51 0 1.02-.2 1.41-.59l7.78-7.78 2.81-2.81c.8-.78.8-2.07 0-2.86zM5.41 20L4 18.59l7.72-7.72 1.47 1.35L5.41 20z\"/>\n",
              "  </svg>\n",
              "      </button>\n",
              "      \n",
              "  <style>\n",
              "    .colab-df-container {\n",
              "      display:flex;\n",
              "      flex-wrap:wrap;\n",
              "      gap: 12px;\n",
              "    }\n",
              "\n",
              "    .colab-df-convert {\n",
              "      background-color: #E8F0FE;\n",
              "      border: none;\n",
              "      border-radius: 50%;\n",
              "      cursor: pointer;\n",
              "      display: none;\n",
              "      fill: #1967D2;\n",
              "      height: 32px;\n",
              "      padding: 0 0 0 0;\n",
              "      width: 32px;\n",
              "    }\n",
              "\n",
              "    .colab-df-convert:hover {\n",
              "      background-color: #E2EBFA;\n",
              "      box-shadow: 0px 1px 2px rgba(60, 64, 67, 0.3), 0px 1px 3px 1px rgba(60, 64, 67, 0.15);\n",
              "      fill: #174EA6;\n",
              "    }\n",
              "\n",
              "    [theme=dark] .colab-df-convert {\n",
              "      background-color: #3B4455;\n",
              "      fill: #D2E3FC;\n",
              "    }\n",
              "\n",
              "    [theme=dark] .colab-df-convert:hover {\n",
              "      background-color: #434B5C;\n",
              "      box-shadow: 0px 1px 3px 1px rgba(0, 0, 0, 0.15);\n",
              "      filter: drop-shadow(0px 1px 2px rgba(0, 0, 0, 0.3));\n",
              "      fill: #FFFFFF;\n",
              "    }\n",
              "  </style>\n",
              "\n",
              "      <script>\n",
              "        const buttonEl =\n",
              "          document.querySelector('#df-3df93f54-00ca-4022-94f6-1a0ba4bc0620 button.colab-df-convert');\n",
              "        buttonEl.style.display =\n",
              "          google.colab.kernel.accessAllowed ? 'block' : 'none';\n",
              "\n",
              "        async function convertToInteractive(key) {\n",
              "          const element = document.querySelector('#df-3df93f54-00ca-4022-94f6-1a0ba4bc0620');\n",
              "          const dataTable =\n",
              "            await google.colab.kernel.invokeFunction('convertToInteractive',\n",
              "                                                     [key], {});\n",
              "          if (!dataTable) return;\n",
              "\n",
              "          const docLinkHtml = 'Like what you see? Visit the ' +\n",
              "            '<a target=\"_blank\" href=https://colab.research.google.com/notebooks/data_table.ipynb>data table notebook</a>'\n",
              "            + ' to learn more about interactive tables.';\n",
              "          element.innerHTML = '';\n",
              "          dataTable['output_type'] = 'display_data';\n",
              "          await google.colab.output.renderOutput(dataTable, element);\n",
              "          const docLink = document.createElement('div');\n",
              "          docLink.innerHTML = docLinkHtml;\n",
              "          element.appendChild(docLink);\n",
              "        }\n",
              "      </script>\n",
              "    </div>\n",
              "  </div>\n",
              "  "
            ]
          },
          "metadata": {},
          "execution_count": 428
        }
      ]
    },
    {
      "cell_type": "markdown",
      "source": [
        "On va visualiser ces valeurs :"
      ],
      "metadata": {
        "id": "0XbxDks-Y0u0"
      }
    },
    {
      "cell_type": "code",
      "source": [
        "\n",
        "# Somme cumulée des valeurs propre. Elle sera utilisé pour créer un step plot pour visualiser la variance expliquée par chaque composante principale.\n",
        "sommme_cumule_var = np.cumsum(acp.explained_variance_ratio_)\n",
        "\n",
        "\n",
        "\n",
        "sns.set(style=\"darkgrid\")\n",
        "\n",
        "# creation des deux graphes\n",
        "fig, (ax1, ax2) = plt.subplots(1, 2, figsize = (12, 5))\n",
        "\n",
        "# definition du graphe un\n",
        "sns.set_color_codes(\"pastel\")\n",
        "sns.barplot(x=\"variance_explique\", y=\"ACP\", data=df_acp_variance,\n",
        "            label=\"Total\", color=\"b\")\n",
        "ax2.set_title(\"Variance expliquée par CP\")\n",
        "ax2.set_xlabel(\"Variance\")\n",
        "ax2.legend(loc='best')\n",
        "\n",
        "# definition du graphe deux\n",
        "ax1.plot(list_acp,sommme_cumule_var, color=\"purple\", label='Variance expliquée cumulée')\n",
        "ax1.bar(range(0,len(exp_var_acp)), exp_var_acp, alpha=0.5, align='center', label='Variance individuelle expliquée', color='blue')\n",
        "ax1.axhline(y = 0.9, color = 'r', linestyle = '--',label='Seuil à 90%')\n",
        "ax1.set_title(\"Variance expliqué vs # de CP\")\n",
        "ax1.set_ylabel('Ratio de variance expliquée')\n",
        "ax1.set_xlabel(\"Composantes principales\")\n",
        "ax1.legend(loc='best')\n",
        "\n",
        "# on affiche\n",
        "plt.show()"
      ],
      "metadata": {
        "colab": {
          "base_uri": "https://localhost:8080/",
          "height": 355
        },
        "outputId": "772b46a9-9b07-418a-e595-a400c8d67718",
        "id": "zkdkfmLQY0u1"
      },
      "execution_count": null,
      "outputs": [
        {
          "output_type": "display_data",
          "data": {
            "text/plain": [
              "<Figure size 864x360 with 2 Axes>"
            ],
            "image/png": "[encoded data removed]"
          },
          "metadata": {}
        }
      ]
    },
    {
      "cell_type": "markdown",
      "source": [
        "## **ACP NORMEE**"
      ],
      "metadata": {
        "id": "aJGj904FZpK6"
      }
    },
    {
      "cell_type": "markdown",
      "source": [
        "Normalisation en utilisant Sklearn (donne une estimation biaisé, différent de la librairie Pandas)"
      ],
      "metadata": {
        "id": "cXzIvk8xrWTt"
      }
    },
    {
      "cell_type": "code",
      "source": [
        "#classe pour standardisation\n",
        "from sklearn.preprocessing import StandardScaler\n",
        "#instanciation\n",
        "sc = StandardScaler()\n",
        "#transformation – centrage-réduction\n",
        "# La libraire Sklearn réalise une normalisation biaisé\n",
        "df_norme = sc.fit_transform(df)\n",
        "\n",
        "#vérification \n",
        "#moyenne\n",
        "print(np.mean(df_norme,axis=0))\n",
        "\n",
        "#écart-type\n",
        "print(np.std(df_norme,axis=0))\n",
        "print(df_norme)"
      ],
      "metadata": {
        "colab": {
          "base_uri": "https://localhost:8080/"
        },
        "id": "F1GtTE85rVsZ",
        "outputId": "f9a22d82-b4c6-4c49-eaf4-d68711b6e15c"
      },
      "execution_count": null,
      "outputs": [
        {
          "output_type": "stream",
          "name": "stdout",
          "text": [
            "[ 8.19857003e-16  8.11316826e-17  1.70803542e-17  9.39419482e-17\n",
            "  1.36642834e-15 -6.83214169e-17 -5.50841424e-16  8.54017711e-18]\n",
            "[1. 1. 1. 1. 1. 1. 1. 1.]\n",
            "[[ 1.78462165e+00 -1.36575310e+00 -1.09360874e+00  1.82060133e-01\n",
            "   3.33203311e-01 -1.59242947e+00 -3.78356343e-01  6.58124880e-02]\n",
            " [ 7.79065914e-01  7.69804707e-01  7.45949682e-01 -8.30005686e-01\n",
            "   1.57851828e+00 -1.39862605e+00 -7.49044602e-01 -9.33952576e-02]\n",
            " [ 5.50552069e-01  2.06254729e-01 -1.09360874e+00  1.79773471e+00\n",
            "   7.25150905e-01  8.84394364e-01 -1.22743283e+00 -2.05749072e-01]\n",
            " [ 5.18313601e-01 -1.43739468e-01  6.81629457e-01 -3.85241335e-01\n",
            "   1.45305358e+00  8.55444475e-01 -1.36669139e+00 -2.41128571e-01]\n",
            " [-5.52193167e-01  9.04760096e-01  2.09947810e-01 -8.57236156e-01\n",
            "  -3.08636796e-01 -6.88549602e-01  6.84116357e-01  4.02395830e-01]\n",
            " [-1.03766656e+00  1.46933678e-01  1.02747436e-01  2.45597897e-01\n",
            "  -1.04794535e+00 -2.43104837e-02  1.13695715e+00  5.46304333e-01]\n",
            " [ 5.47707498e-01  1.92907492e-01 -1.09360874e+00  1.79773471e+00\n",
            "   7.26187803e-01  8.77156892e-01 -1.22793376e+00 -2.05749072e-01]\n",
            " [ 1.39159680e+00 -7.57712339e-01 -3.00325972e-01 -4.80547982e-01\n",
            "   5.71689942e-01 -1.41551348e+00 -4.13421449e-01  5.00351439e-02]\n",
            " [ 1.78035480e+00 -1.36427008e+00 -1.09360874e+00  1.86598544e-01\n",
            "   3.34240210e-01 -1.59162531e+00 -3.73347042e-01  6.62905894e-02]\n",
            " [ 1.86447021e-01  5.17690243e-01  1.88507735e-01 -8.43620921e-01\n",
            "   2.16955037e+00 -1.23055586e+00 -4.49989344e-01 -4.73958406e+00]\n",
            " [ 8.61084369e-01 -8.00720100e-01  2.89424518e+00 -1.31107733e+00\n",
            "   1.01859315e+00 -1.18150188e+00 -4.52493995e-01  4.09512185e-02]\n",
            " [ 1.17920219e+00 -1.51257270e+00 -7.50567544e-01 -2.49088983e-01\n",
            "  -4.53802571e-01  9.25406707e-01 -7.42532511e-01 -5.18004411e-02]\n",
            " [ 9.31250446e-01 -1.11215561e+00 -6.94823349e-01  2.21980700e+00\n",
            "   3.44609194e-01  8.93240163e-01 -1.14027099e+00 -1.78019194e-01]\n",
            " [ 1.54992634e-03  1.03674943e+00 -6.86247319e-01  1.02166630e+00\n",
            "   7.89438605e-01  8.79569383e-01 -9.95502202e-01 -1.32121466e-01]\n",
            " [-1.69598410e-01  1.19988232e+00 -9.45012531e-02  5.23662893e-04\n",
            "   1.08806534e+00  8.68311092e-01 -9.71457558e-01 -1.24471845e-01]\n",
            " [ 4.23494578e-01 -5.35258400e-01  1.77507328e+00 -1.31107733e+00\n",
            "   7.05449835e-01  8.84394364e-01 -9.25872921e-01 -1.10128804e-01]\n",
            " [-3.57814170e-01  5.63664057e-01  1.75643690e-01 -8.11852039e-01\n",
            "  -6.09337330e-01 -7.23932800e-01  7.43727037e-01  4.21519884e-01]\n",
            " [-1.29178155e+00 -5.33775374e-01  2.12751512e-02 -9.48004391e-01\n",
            "  -1.04379776e+00 -1.10591050e+00  2.08822337e+00  8.59460709e-01]\n",
            " [-1.39703066e+00 -1.36894731e-03  1.30767964e+00 -1.13407927e+00\n",
            "  -1.04690845e+00 -1.01825667e+00  1.92942854e+00  7.98263738e-01]\n",
            " [-8.38072521e-01  4.88029718e-01  1.06326279e+00 -4.98701629e-01\n",
            "  -1.04690845e+00 -6.45186628e-02  8.91501410e-01  4.68373815e-01]\n",
            " [ 5.32262938e-02  4.45021956e-01 -1.09360874e+00  5.06207464e-03\n",
            "  -1.04690845e+00  2.24176063e-01 -1.42919205e-01  1.39918195e-01]\n",
            " [-3.11626366e-02 -1.36575310e+00 -5.83334960e-01  1.23043325e+00\n",
            "  -1.04690845e+00  9.48727451e-01  1.17452691e+00  5.59213069e-01]\n",
            " [-1.41125351e+00 -1.24711100e+00 -6.69095259e-01  6.35901307e-01\n",
            "  -1.04690845e+00  9.48727451e-01  1.17803342e+00  5.59213069e-01]\n",
            " [-1.22635642e+00  2.14901913e+00 -9.22088143e-01  5.90517189e-01\n",
            "  -1.04690845e+00  9.48727451e-01  3.81554589e-01  3.05819360e-01]\n",
            " [-1.53404415e+00  1.95622571e+00 -1.11653313e-01  8.80975541e-01\n",
            "  -1.04587155e+00  9.48727451e-01  5.82427551e-01  3.69884939e-01]\n",
            " [-1.14149339e+00  1.63246967e-01  1.11471897e+00 -1.13407927e+00\n",
            "  -1.04690845e+00  9.48727451e-01  7.66769820e-01  4.28691404e-01]]\n"
          ]
        }
      ]
    },
    {
      "cell_type": "markdown",
      "source": [
        "On va normer notre jeu de données pour éviter de gonfler l'impact des variables à forte variance sur le résultat."
      ],
      "metadata": {
        "id": "S0frP8G0AZeD"
      }
    },
    {
      "cell_type": "markdown",
      "source": [],
      "metadata": {
        "id": "3rD-M1LaMINj"
      }
    },
    {
      "cell_type": "markdown",
      "source": [
        "https://stackoverflow.com/questions/26414913/normalize-columns-of-a-dataframe\n",
        "\n",
        "Commentaire : \n",
        "Les estimations biaisées de sklearn rendent-elles l'apprentissage automatique moins puissant ?\n",
        "=> selon la documentation officiel : non. La documentation officielle de sklearn.preprocessing.scale indique que l'utilisation d'un estimateur biaisé a très peu de chances d'affecter les performances des algorithmes d'apprentissage automatique et que nous pouvons les utiliser en toute sécurité.\n",
        "\n",
        "Extrait de la documentation officielle :\n",
        "\n",
        "Nous utilisons un estimateur biaisé pour l'écart type, équivalent à numpy.std(x, ddof=0). Notez que le choix de ddof est peu susceptible d'affecter les performances du modèle.\n"
      ],
      "metadata": {
        "id": "iJEdZW6WMIV_"
      }
    },
    {
      "cell_type": "markdown",
      "source": [
        "**Recherche des hyperplans**"
      ],
      "metadata": {
        "id": "x15DWZYs1aaF"
      }
    },
    {
      "cell_type": "code",
      "source": [
        "#classe pour l'ACP\n",
        "from sklearn.decomposition import PCA\n",
        "#instanciation\n",
        "acp = PCA()\n",
        "#calculs\n",
        "df_acp = acp.fit_transform(df_norme)\n",
        "#nombre de composantes calculées\n",
        "print(acp.n_components_) "
      ],
      "metadata": {
        "colab": {
          "base_uri": "https://localhost:8080/"
        },
        "id": "kCMEJIRy-riq",
        "outputId": "2743f897-bf64-47d3-b39a-e687522366e8"
      },
      "execution_count": null,
      "outputs": [
        {
          "output_type": "stream",
          "name": "stdout",
          "text": [
            "8\n"
          ]
        }
      ]
    },
    {
      "cell_type": "markdown",
      "source": [
        "**Vecteur propre & Lambda**"
      ],
      "metadata": {
        "id": "7tBzlemCW6XM"
      }
    },
    {
      "cell_type": "code",
      "source": [
        "vecteur_propre = acp.components_ \n",
        "print(vecteur_propre)\n",
        "#Axes principaux dans l'espace des caractéristiques, représentant les directions de variance maximale dans les données. \n",
        "#Équivalemment, les vecteurs singuliers droits des données d'entrée centrées, parallèles à ses vecteurs propres.\n",
        "# Les composantes sont triées par importance de variable expliqué"
      ],
      "metadata": {
        "colab": {
          "base_uri": "https://localhost:8080/"
        },
        "id": "8iyhYXQZ57b8",
        "outputId": "524d55ae-a26c-4f5b-ed17-ec69dfb47c5a"
      },
      "execution_count": null,
      "outputs": [
        {
          "output_type": "stream",
          "name": "stdout",
          "text": [
            "[[ 0.51231021 -0.15355972 -0.09804195  0.10650099  0.52700319 -0.0949529\n",
            "  -0.52045143 -0.36794685]\n",
            " [ 0.02488858 -0.06089374  0.53501193 -0.62970728  0.15770896 -0.4946902\n",
            "   0.1582935  -0.13511529]\n",
            " [-0.35986987  0.72794     0.18860062 -0.05053128  0.23732239  0.28517649\n",
            "  -0.16406387 -0.37136092]\n",
            " [-0.08632254  0.19550278 -0.56627337  0.09400662 -0.07106699 -0.5541354\n",
            "   0.3310255  -0.45069931]\n",
            " [-0.24099671 -0.55608913  0.12180942  0.02274981 -0.06395053  0.38672462\n",
            "   0.22709614 -0.64195959]\n",
            " [ 0.20256688  0.05812786 -0.43043272 -0.71649613 -0.33617022  0.30026713\n",
            "  -0.21196349 -0.09407176]\n",
            " [-0.43433125 -0.21220675 -0.38432628 -0.25789214  0.66935636  0.08682924\n",
            "   0.11166275  0.28993757]\n",
            " [ 0.55875264  0.21667421  0.00988612 -0.01852057  0.2662425   0.33259327\n",
            "   0.67720669  0.01716907]]\n"
          ]
        }
      ]
    },
    {
      "cell_type": "code",
      "source": [
        "lambdas = acp.singular_values_ #Les valeurs singulières correspondant à chacune des composantes sélectionnées.\n",
        "print(lambdas)"
      ],
      "metadata": {
        "colab": {
          "base_uri": "https://localhost:8080/"
        },
        "id": "D8uix4UF5uUj",
        "outputId": "3aa6096c-8df0-4e24-b2ef-d92ab20301f8"
      },
      "execution_count": null,
      "outputs": [
        {
          "output_type": "stream",
          "name": "stdout",
          "text": [
            "[8.64198838 7.42265731 5.98611266 4.55684712 3.64546986 2.36350792\n",
            " 1.53106081 0.63405648]\n"
          ]
        }
      ]
    },
    {
      "cell_type": "markdown",
      "source": [
        "**Variance**"
      ],
      "metadata": {
        "id": "szlVulwPXCYk"
      }
    },
    {
      "cell_type": "markdown",
      "source": [
        "On peut s'assurer que l'on a bien calculer toutes les composantes en regardant le pourcentage de variable expliqué ( qui devrait être de 100%)."
      ],
      "metadata": {
        "id": "JhCpFgRU3XxJ"
      }
    },
    {
      "cell_type": "code",
      "source": [
        "print(\"Variance expliquée par les 8 composantes principales = \", int(sum(acp.explained_variance_ratio_ * 100)), \"%\")"
      ],
      "metadata": {
        "colab": {
          "base_uri": "https://localhost:8080/"
        },
        "id": "K6iTqO3D3XRa",
        "outputId": "150bcb43-2d9f-4122-f843-e242ddd0c2bd"
      },
      "execution_count": null,
      "outputs": [
        {
          "output_type": "stream",
          "name": "stdout",
          "text": [
            "Variance expliquée par les 8 composantes principales =  100 %\n"
          ]
        }
      ]
    },
    {
      "cell_type": "markdown",
      "source": [
        "On peut afficher les variances expliqués par chacune des composantes principales :"
      ],
      "metadata": {
        "id": "kv5Bl94X3zVh"
      }
    },
    {
      "cell_type": "code",
      "source": [
        "exp_var_acp = acp.explained_variance_ratio_\n",
        "print(exp_var_acp)\n"
      ],
      "metadata": {
        "id": "VsZZeq22YWn9",
        "colab": {
          "base_uri": "https://localhost:8080/"
        },
        "outputId": "7cffa455-7992-47d0-a493-592b42a80638"
      },
      "execution_count": null,
      "outputs": [
        {
          "output_type": "stream",
          "name": "stdout",
          "text": [
            "[0.35905752 0.26488385 0.17227666 0.09983104 0.06389159 0.02685658\n",
            " 0.01126994 0.00193283]\n"
          ]
        }
      ]
    },
    {
      "cell_type": "markdown",
      "source": [
        "On peut regrouper toutes ces données dans un dataframe."
      ],
      "metadata": {
        "id": "IsRyRZj97TH6"
      }
    },
    {
      "cell_type": "code",
      "source": [
        "list_acp = [\"CP1\",\"CP2\",\"CP3\",\"CP4\",\"CP5\",\"CP6\",\"CP7\",\"CP8\"]\n",
        "df_acp_variance= pd.DataFrame(list_acp, columns = [\"ACP\"])\n",
        "df_acp_variance['variance_explique'] = acp.explained_variance_\n",
        "df_acp_variance"
      ],
      "metadata": {
        "colab": {
          "base_uri": "https://localhost:8080/",
          "height": 300
        },
        "id": "H-Q1JvzU7Xoj",
        "outputId": "0ccd50d6-cb7e-40ff-fb4a-8d1895ca25dd"
      },
      "execution_count": null,
      "outputs": [
        {
          "output_type": "execute_result",
          "data": {
            "text/plain": [
              "   ACP  variance_explique\n",
              "0  CP1           2.987359\n",
              "1  CP2           2.203834\n",
              "2  CP3           1.433342\n",
              "3  CP4           0.830594\n",
              "4  CP5           0.531578\n",
              "5  CP6           0.223447\n",
              "6  CP7           0.093766\n",
              "7  CP8           0.016081"
            ],
            "text/html": [
              "\n",
              "  <div id=\"df-219d3f10-dda0-41c9-92f6-0716de0221d0\">\n",
              "    <div class=\"colab-df-container\">\n",
              "      <div>\n",
              "<style scoped>\n",
              "    .dataframe tbody tr th:only-of-type {\n",
              "        vertical-align: middle;\n",
              "    }\n",
              "\n",
              "    .dataframe tbody tr th {\n",
              "        vertical-align: top;\n",
              "    }\n",
              "\n",
              "    .dataframe thead th {\n",
              "        text-align: right;\n",
              "    }\n",
              "</style>\n",
              "<table border=\"1\" class=\"dataframe\">\n",
              "  <thead>\n",
              "    <tr style=\"text-align: right;\">\n",
              "      <th></th>\n",
              "      <th>ACP</th>\n",
              "      <th>variance_explique</th>\n",
              "    </tr>\n",
              "  </thead>\n",
              "  <tbody>\n",
              "    <tr>\n",
              "      <th>0</th>\n",
              "      <td>CP1</td>\n",
              "      <td>2.987359</td>\n",
              "    </tr>\n",
              "    <tr>\n",
              "      <th>1</th>\n",
              "      <td>CP2</td>\n",
              "      <td>2.203834</td>\n",
              "    </tr>\n",
              "    <tr>\n",
              "      <th>2</th>\n",
              "      <td>CP3</td>\n",
              "      <td>1.433342</td>\n",
              "    </tr>\n",
              "    <tr>\n",
              "      <th>3</th>\n",
              "      <td>CP4</td>\n",
              "      <td>0.830594</td>\n",
              "    </tr>\n",
              "    <tr>\n",
              "      <th>4</th>\n",
              "      <td>CP5</td>\n",
              "      <td>0.531578</td>\n",
              "    </tr>\n",
              "    <tr>\n",
              "      <th>5</th>\n",
              "      <td>CP6</td>\n",
              "      <td>0.223447</td>\n",
              "    </tr>\n",
              "    <tr>\n",
              "      <th>6</th>\n",
              "      <td>CP7</td>\n",
              "      <td>0.093766</td>\n",
              "    </tr>\n",
              "    <tr>\n",
              "      <th>7</th>\n",
              "      <td>CP8</td>\n",
              "      <td>0.016081</td>\n",
              "    </tr>\n",
              "  </tbody>\n",
              "</table>\n",
              "</div>\n",
              "      <button class=\"colab-df-convert\" onclick=\"convertToInteractive('df-219d3f10-dda0-41c9-92f6-0716de0221d0')\"\n",
              "              title=\"Convert this dataframe to an interactive table.\"\n",
              "              style=\"display:none;\">\n",
              "        \n",
              "  <svg xmlns=\"http://www.w3.org/2000/svg\" height=\"24px\"viewBox=\"0 0 24 24\"\n",
              "       width=\"24px\">\n",
              "    <path d=\"M0 0h24v24H0V0z\" fill=\"none\"/>\n",
              "    <path d=\"M18.56 5.44l.94 2.06.94-2.06 2.06-.94-2.06-.94-.94-2.06-.94 2.06-2.06.94zm-11 1L8.5 8.5l.94-2.06 2.06-.94-2.06-.94L8.5 2.5l-.94 2.06-2.06.94zm10 10l.94 2.06.94-2.06 2.06-.94-2.06-.94-.94-2.06-.94 2.06-2.06.94z\"/><path d=\"M17.41 7.96l-1.37-1.37c-.4-.4-.92-.59-1.43-.59-.52 0-1.04.2-1.43.59L10.3 9.45l-7.72 7.72c-.78.78-.78 2.05 0 2.83L4 21.41c.39.39.9.59 1.41.59.51 0 1.02-.2 1.41-.59l7.78-7.78 2.81-2.81c.8-.78.8-2.07 0-2.86zM5.41 20L4 18.59l7.72-7.72 1.47 1.35L5.41 20z\"/>\n",
              "  </svg>\n",
              "      </button>\n",
              "      \n",
              "  <style>\n",
              "    .colab-df-container {\n",
              "      display:flex;\n",
              "      flex-wrap:wrap;\n",
              "      gap: 12px;\n",
              "    }\n",
              "\n",
              "    .colab-df-convert {\n",
              "      background-color: #E8F0FE;\n",
              "      border: none;\n",
              "      border-radius: 50%;\n",
              "      cursor: pointer;\n",
              "      display: none;\n",
              "      fill: #1967D2;\n",
              "      height: 32px;\n",
              "      padding: 0 0 0 0;\n",
              "      width: 32px;\n",
              "    }\n",
              "\n",
              "    .colab-df-convert:hover {\n",
              "      background-color: #E2EBFA;\n",
              "      box-shadow: 0px 1px 2px rgba(60, 64, 67, 0.3), 0px 1px 3px 1px rgba(60, 64, 67, 0.15);\n",
              "      fill: #174EA6;\n",
              "    }\n",
              "\n",
              "    [theme=dark] .colab-df-convert {\n",
              "      background-color: #3B4455;\n",
              "      fill: #D2E3FC;\n",
              "    }\n",
              "\n",
              "    [theme=dark] .colab-df-convert:hover {\n",
              "      background-color: #434B5C;\n",
              "      box-shadow: 0px 1px 3px 1px rgba(0, 0, 0, 0.15);\n",
              "      filter: drop-shadow(0px 1px 2px rgba(0, 0, 0, 0.3));\n",
              "      fill: #FFFFFF;\n",
              "    }\n",
              "  </style>\n",
              "\n",
              "      <script>\n",
              "        const buttonEl =\n",
              "          document.querySelector('#df-219d3f10-dda0-41c9-92f6-0716de0221d0 button.colab-df-convert');\n",
              "        buttonEl.style.display =\n",
              "          google.colab.kernel.accessAllowed ? 'block' : 'none';\n",
              "\n",
              "        async function convertToInteractive(key) {\n",
              "          const element = document.querySelector('#df-219d3f10-dda0-41c9-92f6-0716de0221d0');\n",
              "          const dataTable =\n",
              "            await google.colab.kernel.invokeFunction('convertToInteractive',\n",
              "                                                     [key], {});\n",
              "          if (!dataTable) return;\n",
              "\n",
              "          const docLinkHtml = 'Like what you see? Visit the ' +\n",
              "            '<a target=\"_blank\" href=https://colab.research.google.com/notebooks/data_table.ipynb>data table notebook</a>'\n",
              "            + ' to learn more about interactive tables.';\n",
              "          element.innerHTML = '';\n",
              "          dataTable['output_type'] = 'display_data';\n",
              "          await google.colab.output.renderOutput(dataTable, element);\n",
              "          const docLink = document.createElement('div');\n",
              "          docLink.innerHTML = docLinkHtml;\n",
              "          element.appendChild(docLink);\n",
              "        }\n",
              "      </script>\n",
              "    </div>\n",
              "  </div>\n",
              "  "
            ]
          },
          "metadata": {},
          "execution_count": 457
        }
      ]
    },
    {
      "cell_type": "markdown",
      "source": [
        "On va visualiser ces valeurs :"
      ],
      "metadata": {
        "id": "PTkGD2CpNcWQ"
      }
    },
    {
      "cell_type": "code",
      "source": [
        "\n",
        "# Somme cumulée des valeurs propre. Elle sera utilisé pour créer un step plot pour visualiser la variance expliquée par chaque composante principale.\n",
        "somme_cumule_var = np.cumsum(acp.explained_variance_ratio_)\n",
        "\n",
        "\n",
        "\n",
        "sns.set(style=\"darkgrid\")\n",
        "\n",
        "# creation des deux graphes\n",
        "fig, (ax1, ax2) = plt.subplots(1, 2, figsize = (12, 5))\n",
        "\n",
        "# definition du graphe un\n",
        "sns.set_color_codes(\"pastel\")\n",
        "sns.barplot(x=\"variance_explique\", y=\"ACP\", data=df_acp_variance,\n",
        "            label=\"Total\", color=\"b\")\n",
        "ax2.set_title(\"Variance expliquée par CP\")\n",
        "ax2.set_xlabel(\"Variance\")\n",
        "ax2.legend(loc='best')\n",
        "\n",
        "# definition du graphe deux\n",
        "ax1.plot(list_acp,somme_cumule_var, color=\"purple\", label='Variance expliquée cumulée')\n",
        "ax1.bar(range(0,len(exp_var_acp)), exp_var_acp, alpha=0.5, align='center', label='Variance individuelle expliquée', color='blue')\n",
        "ax1.axhline(y = 0.9, color = 'r', linestyle = '--',label='Seuil à 90%')\n",
        "ax1.set_title(\"Variance expliqué vs # de CP\")\n",
        "ax1.set_ylabel('Ratio de variance expliquée')\n",
        "ax1.set_xlabel(\"Composantes principales\")\n",
        "ax1.legend(loc='best')\n",
        "\n",
        "# on affiche\n",
        "plt.show()"
      ],
      "metadata": {
        "id": "oFITk3dkYWrb",
        "colab": {
          "base_uri": "https://localhost:8080/",
          "height": 355
        },
        "outputId": "a729fe97-5244-4dc4-e602-ce9a0803f12a"
      },
      "execution_count": null,
      "outputs": [
        {
          "output_type": "display_data",
          "data": {
            "text/plain": [
              "<Figure size 864x360 with 2 Axes>"
            ],
            "image/png": "[encoded data removed]"
          },
          "metadata": {}
        }
      ]
    },
    {
      "cell_type": "code",
      "source": [
        "exp_var_acp"
      ],
      "metadata": {
        "colab": {
          "base_uri": "https://localhost:8080/"
        },
        "id": "0z1fjUnY3upM",
        "outputId": "8bcb8206-be25-4f4d-9f3b-f0026c96dc27"
      },
      "execution_count": null,
      "outputs": [
        {
          "output_type": "execute_result",
          "data": {
            "text/plain": [
              "array([0.35905752, 0.26488385, 0.17227666, 0.09983104, 0.06389159,\n",
              "       0.02685658, 0.01126994, 0.00193283])"
            ]
          },
          "metadata": {},
          "execution_count": 459
        }
      ]
    },
    {
      "cell_type": "markdown",
      "source": [
        "# ***En utilisant les librairies Pandas et Numpy (plus fastidieux)***"
      ],
      "metadata": {
        "id": "jgfoTQ3MxHNk"
      }
    },
    {
      "cell_type": "markdown",
      "source": [
        "## **ACP CENTREE**"
      ],
      "metadata": {
        "id": "wfCkO87PhzVm"
      }
    },
    {
      "cell_type": "markdown",
      "source": [
        "**Centrer le nuage**"
      ],
      "metadata": {
        "id": "iwFdhGyrwW6s"
      }
    },
    {
      "cell_type": "code",
      "source": [
        "def centrer_data(matrice):\n",
        "  return matrice.apply(lambda x: x -x.mean())"
      ],
      "metadata": {
        "id": "HQe5HTlrQYvJ"
      },
      "execution_count": null,
      "outputs": []
    },
    {
      "cell_type": "code",
      "source": [
        "#Normalisation en utilisant la librairie pandas (donne des estimations non biaisées)\n",
        "def normer_data(matrice):\n",
        "  return df.apply(lambda x: (x-x.mean())/ x.std())"
      ],
      "metadata": {
        "id": "ANdL50WvqXpL"
      },
      "execution_count": null,
      "outputs": []
    },
    {
      "cell_type": "markdown",
      "source": [
        "**Recherche des hyperplans**"
      ],
      "metadata": {
        "id": "QkV47c1n1mGu"
      }
    },
    {
      "cell_type": "code",
      "source": [
        "def ACP(matrice):\n",
        "\n",
        "  acp = {}\n",
        "\n",
        "  matrice = centrer_data(matrice) # on centre nos données\n",
        "\n",
        "  # on cacule la matrice de covariance que l'on covertit en array\n",
        "  matrice_cov = np.array(calcul_indicateurs_statistiques(matrice)[\"covariance\"]) \n",
        "\n",
        "  # on calcule les vectuers propre et lambdas, ils ne sont pas triés\n",
        "  lambdas,vecteur_propre=np.linalg.eig(matrice_cov) \n",
        "  \n",
        "  # On les trie dans le sens décroissant en fonction de la variance\n",
        "  index = lambdas.argsort()[::-1] \n",
        "  lambdas = lambdas[index]\n",
        "  vecteur_propre = vecteur_propre[index]\n",
        "\n",
        "  # calcul des variables expliquées\n",
        "  total_lambdas = sum(lambdas)\n",
        "  ratio_var_explique = [(i/total_lambdas) for i in lambdas]\n",
        "\n",
        "  acp[\"lambdas\"] = lambdas\n",
        "  acp[\"vecteur propre\"] = vecteur_propre\n",
        "  acp[\"ratio_var_explique\"] = ratio_var_explique\n",
        " \n",
        "  return acp\n",
        "\n"
      ],
      "metadata": {
        "id": "jULdJYKixYVV"
      },
      "execution_count": null,
      "outputs": []
    },
    {
      "cell_type": "code",
      "source": [
        "acp = ACP(df)\n",
        "acp"
      ],
      "metadata": {
        "colab": {
          "base_uri": "https://localhost:8080/"
        },
        "id": "OOghuh8SujPW",
        "outputId": "5756a714-869d-4b5e-a336-fcb627ded5e0"
      },
      "execution_count": null,
      "outputs": [
        {
          "output_type": "execute_result",
          "data": {
            "text/plain": [
              "{'lambdas': array([945.85169666, 365.37159054, 243.97122944,  63.17879825,\n",
              "         19.39984792,   5.43742666,   3.52412924,   0.94949129]),\n",
              " 'vecteur propre': array([[ 0.60539275, -0.46057585,  0.35899134,  0.29692386,  0.22595129,\n",
              "         -0.01711004, -0.39108498,  0.00606195],\n",
              "        [-0.0500844 ,  0.14552702, -0.1926523 , -0.56450104,  0.60463347,\n",
              "         -0.03259484, -0.50375854, -0.01097164],\n",
              "        [-0.01037248,  0.01695906,  0.02300344, -0.10113215, -0.30845313,\n",
              "         -0.65557811, -0.23129433,  0.6406441 ],\n",
              "        [ 0.00983482, -0.02415864, -0.0688537 ,  0.08740193,  0.1406196 ,\n",
              "         -0.74540396,  0.15102139, -0.62348321],\n",
              "        [ 0.28056514,  0.08615008, -0.01138128, -0.38575855, -0.67045162,\n",
              "          0.09999618, -0.36858932, -0.411776  ],\n",
              "        [-0.4455495 , -0.8463959 , -0.06509683, -0.25817924, -0.10323986,\n",
              "          0.02145974, -0.01011853, -0.05462725],\n",
              "        [-0.59148925,  0.19903558,  0.50349122,  0.31388479, -0.04426669,\n",
              "          0.01030685, -0.47814368, -0.16676658],\n",
              "        [-0.06079617, -0.04896435, -0.75555925,  0.51119286, -0.07952234,\n",
              "          0.05166338, -0.39037608, -0.01822077]]),\n",
              " 'ratio_var_explique': [0.5740491357030468,\n",
              "  0.22174855371305682,\n",
              "  0.14806916759693736,\n",
              "  0.03834399690536568,\n",
              "  0.01177400851690403,\n",
              "  0.0033000417333265515,\n",
              "  0.0021388377802443958,\n",
              "  0.0005762580511183905]}"
            ]
          },
          "metadata": {},
          "execution_count": 470
        }
      ]
    },
    {
      "cell_type": "code",
      "source": [
        "list_acp = [\"CP1\",\"CP2\",\"CP3\",\"CP4\",\"CP5\",\"CP6\",\"CP7\",\"CP8\"]\n",
        "df_acp_variance= pd.DataFrame(list_acp, columns = [\"ACP\"])\n",
        "df_acp_variance['variance_explique'] = acp[\"lambdas\"]\n",
        "df_acp_variance"
      ],
      "metadata": {
        "colab": {
          "base_uri": "https://localhost:8080/",
          "height": 300
        },
        "id": "3xspt1FUGkUb",
        "outputId": "b50e468a-6d5a-4996-834e-d256c3976d33"
      },
      "execution_count": null,
      "outputs": [
        {
          "output_type": "execute_result",
          "data": {
            "text/plain": [
              "   ACP  variance_explique\n",
              "0  CP1         945.851697\n",
              "1  CP2         365.371591\n",
              "2  CP3         243.971229\n",
              "3  CP4          63.178798\n",
              "4  CP5          19.399848\n",
              "5  CP6           5.437427\n",
              "6  CP7           3.524129\n",
              "7  CP8           0.949491"
            ],
            "text/html": [
              "\n",
              "  <div id=\"df-9b4868d9-c2cd-4b18-a10d-087807d78b08\">\n",
              "    <div class=\"colab-df-container\">\n",
              "      <div>\n",
              "<style scoped>\n",
              "    .dataframe tbody tr th:only-of-type {\n",
              "        vertical-align: middle;\n",
              "    }\n",
              "\n",
              "    .dataframe tbody tr th {\n",
              "        vertical-align: top;\n",
              "    }\n",
              "\n",
              "    .dataframe thead th {\n",
              "        text-align: right;\n",
              "    }\n",
              "</style>\n",
              "<table border=\"1\" class=\"dataframe\">\n",
              "  <thead>\n",
              "    <tr style=\"text-align: right;\">\n",
              "      <th></th>\n",
              "      <th>ACP</th>\n",
              "      <th>variance_explique</th>\n",
              "    </tr>\n",
              "  </thead>\n",
              "  <tbody>\n",
              "    <tr>\n",
              "      <th>0</th>\n",
              "      <td>CP1</td>\n",
              "      <td>945.851697</td>\n",
              "    </tr>\n",
              "    <tr>\n",
              "      <th>1</th>\n",
              "      <td>CP2</td>\n",
              "      <td>365.371591</td>\n",
              "    </tr>\n",
              "    <tr>\n",
              "      <th>2</th>\n",
              "      <td>CP3</td>\n",
              "      <td>243.971229</td>\n",
              "    </tr>\n",
              "    <tr>\n",
              "      <th>3</th>\n",
              "      <td>CP4</td>\n",
              "      <td>63.178798</td>\n",
              "    </tr>\n",
              "    <tr>\n",
              "      <th>4</th>\n",
              "      <td>CP5</td>\n",
              "      <td>19.399848</td>\n",
              "    </tr>\n",
              "    <tr>\n",
              "      <th>5</th>\n",
              "      <td>CP6</td>\n",
              "      <td>5.437427</td>\n",
              "    </tr>\n",
              "    <tr>\n",
              "      <th>6</th>\n",
              "      <td>CP7</td>\n",
              "      <td>3.524129</td>\n",
              "    </tr>\n",
              "    <tr>\n",
              "      <th>7</th>\n",
              "      <td>CP8</td>\n",
              "      <td>0.949491</td>\n",
              "    </tr>\n",
              "  </tbody>\n",
              "</table>\n",
              "</div>\n",
              "      <button class=\"colab-df-convert\" onclick=\"convertToInteractive('df-9b4868d9-c2cd-4b18-a10d-087807d78b08')\"\n",
              "              title=\"Convert this dataframe to an interactive table.\"\n",
              "              style=\"display:none;\">\n",
              "        \n",
              "  <svg xmlns=\"http://www.w3.org/2000/svg\" height=\"24px\"viewBox=\"0 0 24 24\"\n",
              "       width=\"24px\">\n",
              "    <path d=\"M0 0h24v24H0V0z\" fill=\"none\"/>\n",
              "    <path d=\"M18.56 5.44l.94 2.06.94-2.06 2.06-.94-2.06-.94-.94-2.06-.94 2.06-2.06.94zm-11 1L8.5 8.5l.94-2.06 2.06-.94-2.06-.94L8.5 2.5l-.94 2.06-2.06.94zm10 10l.94 2.06.94-2.06 2.06-.94-2.06-.94-.94-2.06-.94 2.06-2.06.94z\"/><path d=\"M17.41 7.96l-1.37-1.37c-.4-.4-.92-.59-1.43-.59-.52 0-1.04.2-1.43.59L10.3 9.45l-7.72 7.72c-.78.78-.78 2.05 0 2.83L4 21.41c.39.39.9.59 1.41.59.51 0 1.02-.2 1.41-.59l7.78-7.78 2.81-2.81c.8-.78.8-2.07 0-2.86zM5.41 20L4 18.59l7.72-7.72 1.47 1.35L5.41 20z\"/>\n",
              "  </svg>\n",
              "      </button>\n",
              "      \n",
              "  <style>\n",
              "    .colab-df-container {\n",
              "      display:flex;\n",
              "      flex-wrap:wrap;\n",
              "      gap: 12px;\n",
              "    }\n",
              "\n",
              "    .colab-df-convert {\n",
              "      background-color: #E8F0FE;\n",
              "      border: none;\n",
              "      border-radius: 50%;\n",
              "      cursor: pointer;\n",
              "      display: none;\n",
              "      fill: #1967D2;\n",
              "      height: 32px;\n",
              "      padding: 0 0 0 0;\n",
              "      width: 32px;\n",
              "    }\n",
              "\n",
              "    .colab-df-convert:hover {\n",
              "      background-color: #E2EBFA;\n",
              "      box-shadow: 0px 1px 2px rgba(60, 64, 67, 0.3), 0px 1px 3px 1px rgba(60, 64, 67, 0.15);\n",
              "      fill: #174EA6;\n",
              "    }\n",
              "\n",
              "    [theme=dark] .colab-df-convert {\n",
              "      background-color: #3B4455;\n",
              "      fill: #D2E3FC;\n",
              "    }\n",
              "\n",
              "    [theme=dark] .colab-df-convert:hover {\n",
              "      background-color: #434B5C;\n",
              "      box-shadow: 0px 1px 3px 1px rgba(0, 0, 0, 0.15);\n",
              "      filter: drop-shadow(0px 1px 2px rgba(0, 0, 0, 0.3));\n",
              "      fill: #FFFFFF;\n",
              "    }\n",
              "  </style>\n",
              "\n",
              "      <script>\n",
              "        const buttonEl =\n",
              "          document.querySelector('#df-9b4868d9-c2cd-4b18-a10d-087807d78b08 button.colab-df-convert');\n",
              "        buttonEl.style.display =\n",
              "          google.colab.kernel.accessAllowed ? 'block' : 'none';\n",
              "\n",
              "        async function convertToInteractive(key) {\n",
              "          const element = document.querySelector('#df-9b4868d9-c2cd-4b18-a10d-087807d78b08');\n",
              "          const dataTable =\n",
              "            await google.colab.kernel.invokeFunction('convertToInteractive',\n",
              "                                                     [key], {});\n",
              "          if (!dataTable) return;\n",
              "\n",
              "          const docLinkHtml = 'Like what you see? Visit the ' +\n",
              "            '<a target=\"_blank\" href=https://colab.research.google.com/notebooks/data_table.ipynb>data table notebook</a>'\n",
              "            + ' to learn more about interactive tables.';\n",
              "          element.innerHTML = '';\n",
              "          dataTable['output_type'] = 'display_data';\n",
              "          await google.colab.output.renderOutput(dataTable, element);\n",
              "          const docLink = document.createElement('div');\n",
              "          docLink.innerHTML = docLinkHtml;\n",
              "          element.appendChild(docLink);\n",
              "        }\n",
              "      </script>\n",
              "    </div>\n",
              "  </div>\n",
              "  "
            ]
          },
          "metadata": {},
          "execution_count": 471
        }
      ]
    },
    {
      "cell_type": "code",
      "source": [
        "# Somme cumulée des valeurs propre. Elle sera utilisé pour créer un step plot pour visualiser la variance expliquée par chaque composante principale.\n",
        "sommme_cumule_var = np.cumsum(acp[\"ratio_var_explique\"])\n",
        "\n",
        "\n",
        "\n",
        "sns.set(style=\"darkgrid\")\n",
        "\n",
        "# creation des deux graphes\n",
        "fig, (ax1, ax2) = plt.subplots(1, 2, figsize = (12, 5))\n",
        "\n",
        "# definition du graphe un\n",
        "sns.set_color_codes(\"pastel\")\n",
        "sns.barplot(x=\"variance_explique\", y=\"ACP\", data=df_acp_variance,\n",
        "            label=\"Total\", color=\"b\")\n",
        "ax2.set_title(\"Variance expliquée par CP\")\n",
        "ax2.set_xlabel(\"Variance\")\n",
        "ax2.legend(loc='best')\n",
        "\n",
        "# definition du graphe deux\n",
        "ax1.plot(list_acp,sommme_cumule_var, color=\"purple\", label='Variance expliquée cumulée')\n",
        "ax1.bar(range(0,len(acp[\"ratio_var_explique\"] )), acp[\"ratio_var_explique\"] , alpha=0.5, align='center', label='Variance individuelle expliquée', color='blue')\n",
        "ax1.axhline(y = 0.9, color = 'r', linestyle = '--',label='Seuil à 90%')\n",
        "ax1.set_title(\"Variance expliqué vs # de CP\")\n",
        "ax1.set_ylabel('Ratio de variance expliquée')\n",
        "ax1.set_xlabel(\"Composantes principales\")\n",
        "ax1.legend(loc='best')\n",
        "\n",
        "# on affiche\n",
        "plt.show()"
      ],
      "metadata": {
        "colab": {
          "base_uri": "https://localhost:8080/",
          "height": 355
        },
        "id": "QCmDfvwKGJAX",
        "outputId": "485fae18-4df5-4581-a318-eeff5e956053"
      },
      "execution_count": null,
      "outputs": [
        {
          "output_type": "display_data",
          "data": {
            "text/plain": [
              "<Figure size 864x360 with 2 Axes>"
            ],
            "image/png": "[encoded data removed]"
          },
          "metadata": {}
        }
      ]
    },
    {
      "cell_type": "markdown",
      "source": [
        "**Centrer le nuage**"
      ],
      "metadata": {
        "id": "RZwJgkgmK16P"
      }
    },
    {
      "cell_type": "code",
      "source": [
        "def centrer_data(matrice):\n",
        "  return matrice.apply(lambda x: x -x.mean())"
      ],
      "metadata": {
        "id": "E4l3cawMK16P"
      },
      "execution_count": null,
      "outputs": []
    },
    {
      "cell_type": "code",
      "source": [
        "#Normalisation en utilisant la librairie pandas (donne des estimations non biaisées)\n",
        "def normer_data(matrice):\n",
        "  return df.apply(lambda x: (x-x.mean())/ x.std())"
      ],
      "metadata": {
        "id": "QNqECjg5K16P"
      },
      "execution_count": null,
      "outputs": []
    },
    {
      "cell_type": "markdown",
      "source": [
        "**Recherche des hyperplans**"
      ],
      "metadata": {
        "id": "p6PsFJ-KK16P"
      }
    },
    {
      "cell_type": "code",
      "source": [
        "def ACP(matrice):\n",
        "\n",
        "  acp = {}\n",
        "\n",
        "  matrice = centrer_data(matrice) # on centre nos données\n",
        "\n",
        "  # on cacule la matrice de covariance que l'on covertit en array\n",
        "  matrice_cov = np.array(calcul_indicateurs_statistiques(matrice)[\"covariance\"]) \n",
        "\n",
        "  # on calcule les vectuers propre et lambdas, ils ne sont pas triés\n",
        "  lambdas,vecteur_propre=np.linalg.eig(matrice_cov) \n",
        "  \n",
        "  # On les trie dans le sens décroissant en fonction de la variance\n",
        "  index = lambdas.argsort()[::-1] \n",
        "  lambdas = lambdas[index]\n",
        "  vecteur_propre = vecteur_propre[index]\n",
        "\n",
        "  # calcul des variables expliquées\n",
        "  total_lambdas = sum(lambdas)\n",
        "  ratio_var_explique = [(i/total_lambdas) for i in lambdas]\n",
        "\n",
        "  acp[\"lambdas\"] = lambdas\n",
        "  acp[\"vecteur propre\"] = vecteur_propre\n",
        "  acp[\"ratio_var_explique\"] = ratio_var_explique\n",
        " \n",
        "  return acp\n",
        "\n"
      ],
      "metadata": {
        "id": "GitCSYByK16P"
      },
      "execution_count": null,
      "outputs": []
    },
    {
      "cell_type": "code",
      "source": [
        "acp = ACP(df)\n",
        "acp"
      ],
      "metadata": {
        "colab": {
          "base_uri": "https://localhost:8080/"
        },
        "id": "VNiFKIfhK16P",
        "outputId": "9983bd4a-1d6d-4555-bda3-09c450c6c26c"
      },
      "execution_count": null,
      "outputs": [
        {
          "output_type": "execute_result",
          "data": {
            "text/plain": [
              "{'lambdas': array([945.85169666, 365.37159054, 243.97122944,  63.17879825,\n",
              "         19.39984792,   5.43742666,   3.52412924,   0.94949129]),\n",
              " 'vecteur propre': array([[ 0.60539275, -0.46057585,  0.35899134,  0.29692386,  0.22595129,\n",
              "         -0.01711004, -0.39108498,  0.00606195],\n",
              "        [-0.0500844 ,  0.14552702, -0.1926523 , -0.56450104,  0.60463347,\n",
              "         -0.03259484, -0.50375854, -0.01097164],\n",
              "        [-0.01037248,  0.01695906,  0.02300344, -0.10113215, -0.30845313,\n",
              "         -0.65557811, -0.23129433,  0.6406441 ],\n",
              "        [ 0.00983482, -0.02415864, -0.0688537 ,  0.08740193,  0.1406196 ,\n",
              "         -0.74540396,  0.15102139, -0.62348321],\n",
              "        [ 0.28056514,  0.08615008, -0.01138128, -0.38575855, -0.67045162,\n",
              "          0.09999618, -0.36858932, -0.411776  ],\n",
              "        [-0.4455495 , -0.8463959 , -0.06509683, -0.25817924, -0.10323986,\n",
              "          0.02145974, -0.01011853, -0.05462725],\n",
              "        [-0.59148925,  0.19903558,  0.50349122,  0.31388479, -0.04426669,\n",
              "          0.01030685, -0.47814368, -0.16676658],\n",
              "        [-0.06079617, -0.04896435, -0.75555925,  0.51119286, -0.07952234,\n",
              "          0.05166338, -0.39037608, -0.01822077]]),\n",
              " 'ratio_var_explique': [0.5740491357030468,\n",
              "  0.22174855371305682,\n",
              "  0.14806916759693736,\n",
              "  0.03834399690536568,\n",
              "  0.01177400851690403,\n",
              "  0.0033000417333265515,\n",
              "  0.0021388377802443958,\n",
              "  0.0005762580511183905]}"
            ]
          },
          "metadata": {},
          "execution_count": 476
        }
      ]
    },
    {
      "cell_type": "code",
      "source": [
        "list_acp = [\"CP1\",\"CP2\",\"CP3\",\"CP4\",\"CP5\",\"CP6\",\"CP7\",\"CP8\"]\n",
        "df_acp_variance= pd.DataFrame(list_acp, columns = [\"ACP\"])\n",
        "df_acp_variance['variance_explique'] = acp[\"lambdas\"]\n",
        "df_acp_variance"
      ],
      "metadata": {
        "colab": {
          "base_uri": "https://localhost:8080/",
          "height": 300
        },
        "id": "60df9RMKK16P",
        "outputId": "90c1f0ad-7121-4d12-8cdb-ae4e3310cf8c"
      },
      "execution_count": null,
      "outputs": [
        {
          "output_type": "execute_result",
          "data": {
            "text/plain": [
              "   ACP  variance_explique\n",
              "0  CP1         945.851697\n",
              "1  CP2         365.371591\n",
              "2  CP3         243.971229\n",
              "3  CP4          63.178798\n",
              "4  CP5          19.399848\n",
              "5  CP6           5.437427\n",
              "6  CP7           3.524129\n",
              "7  CP8           0.949491"
            ],
            "text/html": [
              "\n",
              "  <div id=\"df-247a77b7-2022-4659-bfa1-e4b56abe2cb9\">\n",
              "    <div class=\"colab-df-container\">\n",
              "      <div>\n",
              "<style scoped>\n",
              "    .dataframe tbody tr th:only-of-type {\n",
              "        vertical-align: middle;\n",
              "    }\n",
              "\n",
              "    .dataframe tbody tr th {\n",
              "        vertical-align: top;\n",
              "    }\n",
              "\n",
              "    .dataframe thead th {\n",
              "        text-align: right;\n",
              "    }\n",
              "</style>\n",
              "<table border=\"1\" class=\"dataframe\">\n",
              "  <thead>\n",
              "    <tr style=\"text-align: right;\">\n",
              "      <th></th>\n",
              "      <th>ACP</th>\n",
              "      <th>variance_explique</th>\n",
              "    </tr>\n",
              "  </thead>\n",
              "  <tbody>\n",
              "    <tr>\n",
              "      <th>0</th>\n",
              "      <td>CP1</td>\n",
              "      <td>945.851697</td>\n",
              "    </tr>\n",
              "    <tr>\n",
              "      <th>1</th>\n",
              "      <td>CP2</td>\n",
              "      <td>365.371591</td>\n",
              "    </tr>\n",
              "    <tr>\n",
              "      <th>2</th>\n",
              "      <td>CP3</td>\n",
              "      <td>243.971229</td>\n",
              "    </tr>\n",
              "    <tr>\n",
              "      <th>3</th>\n",
              "      <td>CP4</td>\n",
              "      <td>63.178798</td>\n",
              "    </tr>\n",
              "    <tr>\n",
              "      <th>4</th>\n",
              "      <td>CP5</td>\n",
              "      <td>19.399848</td>\n",
              "    </tr>\n",
              "    <tr>\n",
              "      <th>5</th>\n",
              "      <td>CP6</td>\n",
              "      <td>5.437427</td>\n",
              "    </tr>\n",
              "    <tr>\n",
              "      <th>6</th>\n",
              "      <td>CP7</td>\n",
              "      <td>3.524129</td>\n",
              "    </tr>\n",
              "    <tr>\n",
              "      <th>7</th>\n",
              "      <td>CP8</td>\n",
              "      <td>0.949491</td>\n",
              "    </tr>\n",
              "  </tbody>\n",
              "</table>\n",
              "</div>\n",
              "      <button class=\"colab-df-convert\" onclick=\"convertToInteractive('df-247a77b7-2022-4659-bfa1-e4b56abe2cb9')\"\n",
              "              title=\"Convert this dataframe to an interactive table.\"\n",
              "              style=\"display:none;\">\n",
              "        \n",
              "  <svg xmlns=\"http://www.w3.org/2000/svg\" height=\"24px\"viewBox=\"0 0 24 24\"\n",
              "       width=\"24px\">\n",
              "    <path d=\"M0 0h24v24H0V0z\" fill=\"none\"/>\n",
              "    <path d=\"M18.56 5.44l.94 2.06.94-2.06 2.06-.94-2.06-.94-.94-2.06-.94 2.06-2.06.94zm-11 1L8.5 8.5l.94-2.06 2.06-.94-2.06-.94L8.5 2.5l-.94 2.06-2.06.94zm10 10l.94 2.06.94-2.06 2.06-.94-2.06-.94-.94-2.06-.94 2.06-2.06.94z\"/><path d=\"M17.41 7.96l-1.37-1.37c-.4-.4-.92-.59-1.43-.59-.52 0-1.04.2-1.43.59L10.3 9.45l-7.72 7.72c-.78.78-.78 2.05 0 2.83L4 21.41c.39.39.9.59 1.41.59.51 0 1.02-.2 1.41-.59l7.78-7.78 2.81-2.81c.8-.78.8-2.07 0-2.86zM5.41 20L4 18.59l7.72-7.72 1.47 1.35L5.41 20z\"/>\n",
              "  </svg>\n",
              "      </button>\n",
              "      \n",
              "  <style>\n",
              "    .colab-df-container {\n",
              "      display:flex;\n",
              "      flex-wrap:wrap;\n",
              "      gap: 12px;\n",
              "    }\n",
              "\n",
              "    .colab-df-convert {\n",
              "      background-color: #E8F0FE;\n",
              "      border: none;\n",
              "      border-radius: 50%;\n",
              "      cursor: pointer;\n",
              "      display: none;\n",
              "      fill: #1967D2;\n",
              "      height: 32px;\n",
              "      padding: 0 0 0 0;\n",
              "      width: 32px;\n",
              "    }\n",
              "\n",
              "    .colab-df-convert:hover {\n",
              "      background-color: #E2EBFA;\n",
              "      box-shadow: 0px 1px 2px rgba(60, 64, 67, 0.3), 0px 1px 3px 1px rgba(60, 64, 67, 0.15);\n",
              "      fill: #174EA6;\n",
              "    }\n",
              "\n",
              "    [theme=dark] .colab-df-convert {\n",
              "      background-color: #3B4455;\n",
              "      fill: #D2E3FC;\n",
              "    }\n",
              "\n",
              "    [theme=dark] .colab-df-convert:hover {\n",
              "      background-color: #434B5C;\n",
              "      box-shadow: 0px 1px 3px 1px rgba(0, 0, 0, 0.15);\n",
              "      filter: drop-shadow(0px 1px 2px rgba(0, 0, 0, 0.3));\n",
              "      fill: #FFFFFF;\n",
              "    }\n",
              "  </style>\n",
              "\n",
              "      <script>\n",
              "        const buttonEl =\n",
              "          document.querySelector('#df-247a77b7-2022-4659-bfa1-e4b56abe2cb9 button.colab-df-convert');\n",
              "        buttonEl.style.display =\n",
              "          google.colab.kernel.accessAllowed ? 'block' : 'none';\n",
              "\n",
              "        async function convertToInteractive(key) {\n",
              "          const element = document.querySelector('#df-247a77b7-2022-4659-bfa1-e4b56abe2cb9');\n",
              "          const dataTable =\n",
              "            await google.colab.kernel.invokeFunction('convertToInteractive',\n",
              "                                                     [key], {});\n",
              "          if (!dataTable) return;\n",
              "\n",
              "          const docLinkHtml = 'Like what you see? Visit the ' +\n",
              "            '<a target=\"_blank\" href=https://colab.research.google.com/notebooks/data_table.ipynb>data table notebook</a>'\n",
              "            + ' to learn more about interactive tables.';\n",
              "          element.innerHTML = '';\n",
              "          dataTable['output_type'] = 'display_data';\n",
              "          await google.colab.output.renderOutput(dataTable, element);\n",
              "          const docLink = document.createElement('div');\n",
              "          docLink.innerHTML = docLinkHtml;\n",
              "          element.appendChild(docLink);\n",
              "        }\n",
              "      </script>\n",
              "    </div>\n",
              "  </div>\n",
              "  "
            ]
          },
          "metadata": {},
          "execution_count": 477
        }
      ]
    },
    {
      "cell_type": "code",
      "source": [
        "# Somme cumulée des valeurs propre. Elle sera utilisé pour créer un step plot pour visualiser la variance expliquée par chaque composante principale.\n",
        "sommme_cumule_var = np.cumsum(acp[\"ratio_var_explique\"])\n",
        "\n",
        "\n",
        "\n",
        "sns.set(style=\"darkgrid\")\n",
        "\n",
        "# creation des deux graphes\n",
        "fig, (ax1, ax2) = plt.subplots(1, 2, figsize = (12, 5))\n",
        "\n",
        "# definition du graphe un\n",
        "sns.set_color_codes(\"pastel\")\n",
        "sns.barplot(x=\"variance_explique\", y=\"ACP\", data=df_acp_variance,\n",
        "            label=\"Total\", color=\"b\")\n",
        "ax2.set_title(\"Variance expliquée par CP\")\n",
        "ax2.set_xlabel(\"Variance\")\n",
        "ax2.legend(loc='best')\n",
        "\n",
        "# definition du graphe deux\n",
        "ax1.plot(list_acp,sommme_cumule_var, color=\"purple\", label='Variance expliquée cumulée')\n",
        "ax1.bar(range(0,len(acp[\"ratio_var_explique\"])), acp[\"ratio_var_explique\"], alpha=0.5, align='center', label='Variance individuelle expliquée', color='blue')\n",
        "ax1.axhline(y = 0.9, color = 'r', linestyle = '--',label='Seuil à 90%')\n",
        "ax1.set_title(\"Variance expliqué vs # de CP\")\n",
        "ax1.set_ylabel('Ratio de variance expliquée')\n",
        "ax1.set_xlabel(\"Composantes principales\")\n",
        "ax1.legend(loc='best')\n",
        "\n",
        "# on affiche\n",
        "plt.show()"
      ],
      "metadata": {
        "colab": {
          "base_uri": "https://localhost:8080/",
          "height": 355
        },
        "id": "ZdEybv1hK16Q",
        "outputId": "5f7144ba-be46-45ba-a0a0-d42857b9042e"
      },
      "execution_count": null,
      "outputs": [
        {
          "output_type": "display_data",
          "data": {
            "text/plain": [
              "<Figure size 864x360 with 2 Axes>"
            ],
            "image/png": "[encoded data removed]"
          },
          "metadata": {}
        }
      ]
    },
    {
      "cell_type": "markdown",
      "source": [
        "## **ACP NORMEE**"
      ],
      "metadata": {
        "id": "e9HE_LI5Mzk3"
      }
    },
    {
      "cell_type": "markdown",
      "source": [
        "**Centrer le nuage**"
      ],
      "metadata": {
        "id": "Itt28-OCMzk9"
      }
    },
    {
      "cell_type": "code",
      "source": [
        "def centrer_data(matrice):\n",
        "  return matrice.apply(lambda x: x -x.mean())"
      ],
      "metadata": {
        "id": "ZSTO7Q3PMzk9"
      },
      "execution_count": null,
      "outputs": []
    },
    {
      "cell_type": "code",
      "source": [
        "#Normalisation en utilisant la librairie pandas (donne des estimations non biaisées)\n",
        "def normer_data(matrice):\n",
        "  return df.apply(lambda x: (x-x.mean())/ x.std())"
      ],
      "metadata": {
        "id": "Z_PJF-hVMzk9"
      },
      "execution_count": null,
      "outputs": []
    },
    {
      "cell_type": "markdown",
      "source": [
        "**Recherche des hyperplans**"
      ],
      "metadata": {
        "id": "yLn6RfkaMzk9"
      }
    },
    {
      "cell_type": "code",
      "source": [
        "def ACP(matrice):\n",
        "\n",
        "  acp = {}\n",
        "\n",
        "  matrice = centrer_data(matrice) # on centre nos données\n",
        "\n",
        "  matrice = normer_data(matrice) # on norme nos données\n",
        "\n",
        "  # on cacule la matrice de covariance que l'on covertit en array\n",
        "  matrice_cov = np.array(calcul_indicateurs_statistiques(matrice)[\"covariance\"]) \n",
        "\n",
        "  # on calcule les vectuers propre et lambdas, ils ne sont pas triés\n",
        "  lambdas,vecteur_propre=np.linalg.eig(matrice_cov) \n",
        "  \n",
        "  # On les trie dans le sens décroissant en fonction de la variance\n",
        "  index = lambdas.argsort()[::-1] \n",
        "  lambdas = lambdas[index]\n",
        "  vecteur_propre = vecteur_propre[index]\n",
        "\n",
        "  # calcul des variables expliquées\n",
        "  total_lambdas = sum(lambdas)\n",
        "  ratio_var_explique = [(i/total_lambdas) for i in lambdas]\n",
        "\n",
        "  acp[\"lambdas\"] = lambdas\n",
        "  acp[\"vecteur propre\"] = vecteur_propre\n",
        "  acp[\"ratio_var_explique\"] = ratio_var_explique\n",
        " \n",
        "  return acp\n",
        "\n"
      ],
      "metadata": {
        "id": "B0SBRuWxMzk9"
      },
      "execution_count": null,
      "outputs": []
    },
    {
      "cell_type": "code",
      "source": [
        "acp = ACP(df)\n",
        "acp"
      ],
      "metadata": {
        "colab": {
          "base_uri": "https://localhost:8080/"
        },
        "id": "j6xJT5QDMzk-",
        "outputId": "8e603f54-b1cd-4785-9149-825addbecdb2"
      },
      "execution_count": null,
      "outputs": [
        {
          "output_type": "execute_result",
          "data": {
            "text/plain": [
              "{'lambdas': array([2.87246012, 2.11907083, 1.37821326, 0.7986483 , 0.51113271,\n",
              "        0.21485268, 0.09015951, 0.0154626 ]),\n",
              " 'vecteur propre': array([[-0.51231021,  0.02488858, -0.35986987,  0.08632254, -0.24099671,\n",
              "         -0.55875264,  0.43433125, -0.20256688],\n",
              "        [ 0.15355972, -0.06089374,  0.72794   , -0.19550278, -0.55608913,\n",
              "         -0.21667421,  0.21220675, -0.05812786],\n",
              "        [ 0.09804195,  0.53501193,  0.18860062,  0.56627337,  0.12180942,\n",
              "         -0.00988612,  0.38432628,  0.43043272],\n",
              "        [-0.10650099, -0.62970728, -0.05053128, -0.09400662,  0.02274981,\n",
              "          0.01852057,  0.25789214,  0.71649613],\n",
              "        [-0.52700319,  0.15770896,  0.23732239,  0.07106699, -0.06395053,\n",
              "         -0.2662425 , -0.66935636,  0.33617022],\n",
              "        [ 0.36794685, -0.13511529, -0.37136092,  0.45069931, -0.64195959,\n",
              "         -0.01716907, -0.28993757,  0.09407176],\n",
              "        [ 0.52045143,  0.1582935 , -0.16406387, -0.3310255 ,  0.22709614,\n",
              "         -0.67720669, -0.11166275,  0.21196349],\n",
              "        [ 0.0949529 , -0.4946902 ,  0.28517649,  0.5541354 ,  0.38672462,\n",
              "         -0.33259327, -0.08682924, -0.30026713]]),\n",
              " 'ratio_var_explique': [0.3590575150926421,\n",
              "  0.26488385327585956,\n",
              "  0.17227665737892014,\n",
              "  0.09983103694769493,\n",
              "  0.06389158881383289,\n",
              "  0.02685658493753247,\n",
              "  0.011269938448594238,\n",
              "  0.0019328251049233578]}"
            ]
          },
          "metadata": {},
          "execution_count": 12
        }
      ]
    },
    {
      "cell_type": "code",
      "source": [
        "list_acp = [\"CP1\",\"CP2\",\"CP3\",\"CP4\",\"CP5\",\"CP6\",\"CP7\",\"CP8\"]\n",
        "df_acp_variance= pd.DataFrame(list_acp, columns = [\"ACP\"])\n",
        "df_acp_variance['variance_explique'] = acp[\"lambdas\"]\n",
        "df_acp_variance"
      ],
      "metadata": {
        "colab": {
          "base_uri": "https://localhost:8080/"
        },
        "id": "WNZLFqTxMzk-",
        "outputId": "552cf3a0-efff-4b0b-e8f4-5869ffe7b046"
      },
      "execution_count": null,
      "outputs": [
        {
          "output_type": "execute_result",
          "data": {
            "text/plain": [
              "   ACP  variance_explique\n",
              "0  CP1           2.872460\n",
              "1  CP2           2.119071\n",
              "2  CP3           1.378213\n",
              "3  CP4           0.798648\n",
              "4  CP5           0.511133\n",
              "5  CP6           0.214853\n",
              "6  CP7           0.090160\n",
              "7  CP8           0.015463"
            ],
            "text/html": [
              "\n",
              "  <div id=\"df-72850587-a099-4ca7-a11c-68ffc32a1979\">\n",
              "    <div class=\"colab-df-container\">\n",
              "      <div>\n",
              "<style scoped>\n",
              "    .dataframe tbody tr th:only-of-type {\n",
              "        vertical-align: middle;\n",
              "    }\n",
              "\n",
              "    .dataframe tbody tr th {\n",
              "        vertical-align: top;\n",
              "    }\n",
              "\n",
              "    .dataframe thead th {\n",
              "        text-align: right;\n",
              "    }\n",
              "</style>\n",
              "<table border=\"1\" class=\"dataframe\">\n",
              "  <thead>\n",
              "    <tr style=\"text-align: right;\">\n",
              "      <th></th>\n",
              "      <th>ACP</th>\n",
              "      <th>variance_explique</th>\n",
              "    </tr>\n",
              "  </thead>\n",
              "  <tbody>\n",
              "    <tr>\n",
              "      <th>0</th>\n",
              "      <td>CP1</td>\n",
              "      <td>2.872460</td>\n",
              "    </tr>\n",
              "    <tr>\n",
              "      <th>1</th>\n",
              "      <td>CP2</td>\n",
              "      <td>2.119071</td>\n",
              "    </tr>\n",
              "    <tr>\n",
              "      <th>2</th>\n",
              "      <td>CP3</td>\n",
              "      <td>1.378213</td>\n",
              "    </tr>\n",
              "    <tr>\n",
              "      <th>3</th>\n",
              "      <td>CP4</td>\n",
              "      <td>0.798648</td>\n",
              "    </tr>\n",
              "    <tr>\n",
              "      <th>4</th>\n",
              "      <td>CP5</td>\n",
              "      <td>0.511133</td>\n",
              "    </tr>\n",
              "    <tr>\n",
              "      <th>5</th>\n",
              "      <td>CP6</td>\n",
              "      <td>0.214853</td>\n",
              "    </tr>\n",
              "    <tr>\n",
              "      <th>6</th>\n",
              "      <td>CP7</td>\n",
              "      <td>0.090160</td>\n",
              "    </tr>\n",
              "    <tr>\n",
              "      <th>7</th>\n",
              "      <td>CP8</td>\n",
              "      <td>0.015463</td>\n",
              "    </tr>\n",
              "  </tbody>\n",
              "</table>\n",
              "</div>\n",
              "      <button class=\"colab-df-convert\" onclick=\"convertToInteractive('df-72850587-a099-4ca7-a11c-68ffc32a1979')\"\n",
              "              title=\"Convert this dataframe to an interactive table.\"\n",
              "              style=\"display:none;\">\n",
              "        \n",
              "  <svg xmlns=\"http://www.w3.org/2000/svg\" height=\"24px\"viewBox=\"0 0 24 24\"\n",
              "       width=\"24px\">\n",
              "    <path d=\"M0 0h24v24H0V0z\" fill=\"none\"/>\n",
              "    <path d=\"M18.56 5.44l.94 2.06.94-2.06 2.06-.94-2.06-.94-.94-2.06-.94 2.06-2.06.94zm-11 1L8.5 8.5l.94-2.06 2.06-.94-2.06-.94L8.5 2.5l-.94 2.06-2.06.94zm10 10l.94 2.06.94-2.06 2.06-.94-2.06-.94-.94-2.06-.94 2.06-2.06.94z\"/><path d=\"M17.41 7.96l-1.37-1.37c-.4-.4-.92-.59-1.43-.59-.52 0-1.04.2-1.43.59L10.3 9.45l-7.72 7.72c-.78.78-.78 2.05 0 2.83L4 21.41c.39.39.9.59 1.41.59.51 0 1.02-.2 1.41-.59l7.78-7.78 2.81-2.81c.8-.78.8-2.07 0-2.86zM5.41 20L4 18.59l7.72-7.72 1.47 1.35L5.41 20z\"/>\n",
              "  </svg>\n",
              "      </button>\n",
              "      \n",
              "  <style>\n",
              "    .colab-df-container {\n",
              "      display:flex;\n",
              "      flex-wrap:wrap;\n",
              "      gap: 12px;\n",
              "    }\n",
              "\n",
              "    .colab-df-convert {\n",
              "      background-color: #E8F0FE;\n",
              "      border: none;\n",
              "      border-radius: 50%;\n",
              "      cursor: pointer;\n",
              "      display: none;\n",
              "      fill: #1967D2;\n",
              "      height: 32px;\n",
              "      padding: 0 0 0 0;\n",
              "      width: 32px;\n",
              "    }\n",
              "\n",
              "    .colab-df-convert:hover {\n",
              "      background-color: #E2EBFA;\n",
              "      box-shadow: 0px 1px 2px rgba(60, 64, 67, 0.3), 0px 1px 3px 1px rgba(60, 64, 67, 0.15);\n",
              "      fill: #174EA6;\n",
              "    }\n",
              "\n",
              "    [theme=dark] .colab-df-convert {\n",
              "      background-color: #3B4455;\n",
              "      fill: #D2E3FC;\n",
              "    }\n",
              "\n",
              "    [theme=dark] .colab-df-convert:hover {\n",
              "      background-color: #434B5C;\n",
              "      box-shadow: 0px 1px 3px 1px rgba(0, 0, 0, 0.15);\n",
              "      filter: drop-shadow(0px 1px 2px rgba(0, 0, 0, 0.3));\n",
              "      fill: #FFFFFF;\n",
              "    }\n",
              "  </style>\n",
              "\n",
              "      <script>\n",
              "        const buttonEl =\n",
              "          document.querySelector('#df-72850587-a099-4ca7-a11c-68ffc32a1979 button.colab-df-convert');\n",
              "        buttonEl.style.display =\n",
              "          google.colab.kernel.accessAllowed ? 'block' : 'none';\n",
              "\n",
              "        async function convertToInteractive(key) {\n",
              "          const element = document.querySelector('#df-72850587-a099-4ca7-a11c-68ffc32a1979');\n",
              "          const dataTable =\n",
              "            await google.colab.kernel.invokeFunction('convertToInteractive',\n",
              "                                                     [key], {});\n",
              "          if (!dataTable) return;\n",
              "\n",
              "          const docLinkHtml = 'Like what you see? Visit the ' +\n",
              "            '<a target=\"_blank\" href=https://colab.research.google.com/notebooks/data_table.ipynb>data table notebook</a>'\n",
              "            + ' to learn more about interactive tables.';\n",
              "          element.innerHTML = '';\n",
              "          dataTable['output_type'] = 'display_data';\n",
              "          await google.colab.output.renderOutput(dataTable, element);\n",
              "          const docLink = document.createElement('div');\n",
              "          docLink.innerHTML = docLinkHtml;\n",
              "          element.appendChild(docLink);\n",
              "        }\n",
              "      </script>\n",
              "    </div>\n",
              "  </div>\n",
              "  "
            ]
          },
          "metadata": {},
          "execution_count": 13
        }
      ]
    },
    {
      "cell_type": "code",
      "source": [
        "# Somme cumulée des valeurs propre. Elle sera utilisé pour créer un step plot pour visualiser la variance expliquée par chaque composante principale.\n",
        "sommme_cumule_var = np.cumsum(acp[\"ratio_var_explique\"])\n",
        "\n",
        "\n",
        "\n",
        "sns.set(style=\"darkgrid\")\n",
        "\n",
        "# creation des deux graphes\n",
        "fig, (ax1, ax2) = plt.subplots(1, 2, figsize = (12, 5))\n",
        "\n",
        "# definition du graphe un\n",
        "sns.set_color_codes(\"pastel\")\n",
        "sns.barplot(x=\"variance_explique\", y=\"ACP\", data=df_acp_variance,\n",
        "            label=\"Total\", color=\"b\")\n",
        "ax2.set_title(\"Variance expliquée par CP\")\n",
        "ax2.set_xlabel(\"Variance\")\n",
        "ax2.legend(loc='best')\n",
        "\n",
        "# definition du graphe deux\n",
        "ax1.plot(list_acp,sommme_cumule_var, color=\"purple\", label='Variance expliquée cumulée')\n",
        "ax1.bar(range(0,len(acp[\"ratio_var_explique\"] )), acp[\"ratio_var_explique\"] , alpha=0.5, align='center', label='Variance individuelle expliquée', color='blue')\n",
        "ax1.axhline(y = 0.9, color = 'r', linestyle = '--',label='Seuil à 90%')\n",
        "ax1.set_title(\"Variance expliqué vs # de CP\")\n",
        "ax1.set_ylabel('Ratio de variance expliquée')\n",
        "ax1.set_xlabel(\"Composantes principales\")\n",
        "ax1.legend(loc='best')\n",
        "\n",
        "# on affiche\n",
        "plt.show()"
      ],
      "metadata": {
        "colab": {
          "base_uri": "https://localhost:8080/"
        },
        "id": "va7ao-ygMzk-",
        "outputId": "d90f9ecc-4bc9-4166-f695-e5353a497db9"
      },
      "execution_count": null,
      "outputs": [
        {
          "output_type": "display_data",
          "data": {
            "text/plain": [
              "<Figure size 864x360 with 2 Axes>"
            ],
            "image/png": "[encoded data removed]"
          },
          "metadata": {}
        }
      ]
    },
    {
      "cell_type": "markdown",
      "source": [
        "**Centrer le nuage**"
      ],
      "metadata": {
        "id": "idufEIVuMzk-"
      }
    },
    {
      "cell_type": "code",
      "source": [
        "def centrer_data(matrice):\n",
        "  return matrice.apply(lambda x: x -x.mean())"
      ],
      "metadata": {
        "id": "LTHvA5HKMzk-"
      },
      "execution_count": null,
      "outputs": []
    },
    {
      "cell_type": "code",
      "source": [
        "#Normalisation en utilisant la librairie pandas (donne des estimations non biaisées)\n",
        "def normer_data(matrice):\n",
        "  return df.apply(lambda x: (x-x.mean())/ x.std())"
      ],
      "metadata": {
        "id": "f-eHQjtbMzk-"
      },
      "execution_count": null,
      "outputs": []
    },
    {
      "cell_type": "markdown",
      "source": [
        "**Recherche des hyperplans**"
      ],
      "metadata": {
        "id": "AQHZLZX_Mzk_"
      }
    },
    {
      "cell_type": "code",
      "source": [
        "def ACP(matrice):\n",
        "\n",
        "  acp = {}\n",
        "\n",
        "  matrice = centrer_data(matrice) # on centre nos données\n",
        "\n",
        "  # on cacule la matrice de covariance que l'on covertit en array\n",
        "  matrice_cov = np.array(calcul_indicateurs_statistiques(matrice)[\"covariance\"]) \n",
        "\n",
        "  # on calcule les vectuers propre et lambdas, ils ne sont pas triés\n",
        "  lambdas,vecteur_propre=np.linalg.eig(matrice_cov) \n",
        "  \n",
        "  # On les trie dans le sens décroissant en fonction de la variance\n",
        "  index = lambdas.argsort()[::-1] \n",
        "  lambdas = lambdas[index]\n",
        "  vecteur_propre = vecteur_propre[index]\n",
        "\n",
        "  # calcul des variables expliquées\n",
        "  total_lambdas = sum(lambdas)\n",
        "  ratio_var_explique = [(i/total_lambdas) for i in lambdas]\n",
        "\n",
        "  acp[\"lambdas\"] = lambdas\n",
        "  acp[\"vecteur propre\"] = vecteur_propre\n",
        "  acp[\"ratio_var_explique\"] = ratio_var_explique\n",
        " \n",
        "  return acp\n",
        "\n"
      ],
      "metadata": {
        "id": "3EfCtHpYMzk_"
      },
      "execution_count": null,
      "outputs": []
    },
    {
      "cell_type": "code",
      "source": [
        "acp = ACP(df)\n",
        "acp"
      ],
      "metadata": {
        "colab": {
          "base_uri": "https://localhost:8080/"
        },
        "id": "qfhveZZrMzlA",
        "outputId": "6025419a-7881-418a-af45-6a3e621124b6"
      },
      "execution_count": null,
      "outputs": [
        {
          "output_type": "execute_result",
          "data": {
            "text/plain": [
              "{'lambdas': array([945.85169666, 365.37159054, 243.97122944,  63.17879825,\n",
              "         19.39984792,   5.43742666,   3.52412924,   0.94949129]),\n",
              " 'vecteur propre': array([[ 0.60539275, -0.46057585,  0.35899134,  0.29692386,  0.22595129,\n",
              "         -0.01711004, -0.39108498,  0.00606195],\n",
              "        [-0.0500844 ,  0.14552702, -0.1926523 , -0.56450104,  0.60463347,\n",
              "         -0.03259484, -0.50375854, -0.01097164],\n",
              "        [-0.01037248,  0.01695906,  0.02300344, -0.10113215, -0.30845313,\n",
              "         -0.65557811, -0.23129433,  0.6406441 ],\n",
              "        [ 0.00983482, -0.02415864, -0.0688537 ,  0.08740193,  0.1406196 ,\n",
              "         -0.74540396,  0.15102139, -0.62348321],\n",
              "        [ 0.28056514,  0.08615008, -0.01138128, -0.38575855, -0.67045162,\n",
              "          0.09999618, -0.36858932, -0.411776  ],\n",
              "        [-0.4455495 , -0.8463959 , -0.06509683, -0.25817924, -0.10323986,\n",
              "          0.02145974, -0.01011853, -0.05462725],\n",
              "        [-0.59148925,  0.19903558,  0.50349122,  0.31388479, -0.04426669,\n",
              "          0.01030685, -0.47814368, -0.16676658],\n",
              "        [-0.06079617, -0.04896435, -0.75555925,  0.51119286, -0.07952234,\n",
              "          0.05166338, -0.39037608, -0.01822077]]),\n",
              " 'ratio_var_explique': [0.5740491357030468,\n",
              "  0.22174855371305682,\n",
              "  0.14806916759693736,\n",
              "  0.03834399690536568,\n",
              "  0.01177400851690403,\n",
              "  0.0033000417333265515,\n",
              "  0.0021388377802443958,\n",
              "  0.0005762580511183905]}"
            ]
          },
          "metadata": {},
          "execution_count": 18
        }
      ]
    },
    {
      "cell_type": "code",
      "source": [
        "list_acp = [\"CP1\",\"CP2\",\"CP3\",\"CP4\",\"CP5\",\"CP6\",\"CP7\",\"CP8\"]\n",
        "df_acp_variance= pd.DataFrame(list_acp, columns = [\"ACP\"])\n",
        "df_acp_variance['variance_explique'] = acp[\"lambdas\"]\n",
        "df_acp_variance"
      ],
      "metadata": {
        "colab": {
          "base_uri": "https://localhost:8080/"
        },
        "id": "CvpxTto0MzlA",
        "outputId": "01cbcd06-2ca9-4b71-8ea8-f13e0136bdbf"
      },
      "execution_count": null,
      "outputs": [
        {
          "output_type": "execute_result",
          "data": {
            "text/plain": [
              "   ACP  variance_explique\n",
              "0  CP1         945.851697\n",
              "1  CP2         365.371591\n",
              "2  CP3         243.971229\n",
              "3  CP4          63.178798\n",
              "4  CP5          19.399848\n",
              "5  CP6           5.437427\n",
              "6  CP7           3.524129\n",
              "7  CP8           0.949491"
            ],
            "text/html": [
              "\n",
              "  <div id=\"df-ea292c31-2b95-4911-9d4f-7d565dd2d7e4\">\n",
              "    <div class=\"colab-df-container\">\n",
              "      <div>\n",
              "<style scoped>\n",
              "    .dataframe tbody tr th:only-of-type {\n",
              "        vertical-align: middle;\n",
              "    }\n",
              "\n",
              "    .dataframe tbody tr th {\n",
              "        vertical-align: top;\n",
              "    }\n",
              "\n",
              "    .dataframe thead th {\n",
              "        text-align: right;\n",
              "    }\n",
              "</style>\n",
              "<table border=\"1\" class=\"dataframe\">\n",
              "  <thead>\n",
              "    <tr style=\"text-align: right;\">\n",
              "      <th></th>\n",
              "      <th>ACP</th>\n",
              "      <th>variance_explique</th>\n",
              "    </tr>\n",
              "  </thead>\n",
              "  <tbody>\n",
              "    <tr>\n",
              "      <th>0</th>\n",
              "      <td>CP1</td>\n",
              "      <td>945.851697</td>\n",
              "    </tr>\n",
              "    <tr>\n",
              "      <th>1</th>\n",
              "      <td>CP2</td>\n",
              "      <td>365.371591</td>\n",
              "    </tr>\n",
              "    <tr>\n",
              "      <th>2</th>\n",
              "      <td>CP3</td>\n",
              "      <td>243.971229</td>\n",
              "    </tr>\n",
              "    <tr>\n",
              "      <th>3</th>\n",
              "      <td>CP4</td>\n",
              "      <td>63.178798</td>\n",
              "    </tr>\n",
              "    <tr>\n",
              "      <th>4</th>\n",
              "      <td>CP5</td>\n",
              "      <td>19.399848</td>\n",
              "    </tr>\n",
              "    <tr>\n",
              "      <th>5</th>\n",
              "      <td>CP6</td>\n",
              "      <td>5.437427</td>\n",
              "    </tr>\n",
              "    <tr>\n",
              "      <th>6</th>\n",
              "      <td>CP7</td>\n",
              "      <td>3.524129</td>\n",
              "    </tr>\n",
              "    <tr>\n",
              "      <th>7</th>\n",
              "      <td>CP8</td>\n",
              "      <td>0.949491</td>\n",
              "    </tr>\n",
              "  </tbody>\n",
              "</table>\n",
              "</div>\n",
              "      <button class=\"colab-df-convert\" onclick=\"convertToInteractive('df-ea292c31-2b95-4911-9d4f-7d565dd2d7e4')\"\n",
              "              title=\"Convert this dataframe to an interactive table.\"\n",
              "              style=\"display:none;\">\n",
              "        \n",
              "  <svg xmlns=\"http://www.w3.org/2000/svg\" height=\"24px\"viewBox=\"0 0 24 24\"\n",
              "       width=\"24px\">\n",
              "    <path d=\"M0 0h24v24H0V0z\" fill=\"none\"/>\n",
              "    <path d=\"M18.56 5.44l.94 2.06.94-2.06 2.06-.94-2.06-.94-.94-2.06-.94 2.06-2.06.94zm-11 1L8.5 8.5l.94-2.06 2.06-.94-2.06-.94L8.5 2.5l-.94 2.06-2.06.94zm10 10l.94 2.06.94-2.06 2.06-.94-2.06-.94-.94-2.06-.94 2.06-2.06.94z\"/><path d=\"M17.41 7.96l-1.37-1.37c-.4-.4-.92-.59-1.43-.59-.52 0-1.04.2-1.43.59L10.3 9.45l-7.72 7.72c-.78.78-.78 2.05 0 2.83L4 21.41c.39.39.9.59 1.41.59.51 0 1.02-.2 1.41-.59l7.78-7.78 2.81-2.81c.8-.78.8-2.07 0-2.86zM5.41 20L4 18.59l7.72-7.72 1.47 1.35L5.41 20z\"/>\n",
              "  </svg>\n",
              "      </button>\n",
              "      \n",
              "  <style>\n",
              "    .colab-df-container {\n",
              "      display:flex;\n",
              "      flex-wrap:wrap;\n",
              "      gap: 12px;\n",
              "    }\n",
              "\n",
              "    .colab-df-convert {\n",
              "      background-color: #E8F0FE;\n",
              "      border: none;\n",
              "      border-radius: 50%;\n",
              "      cursor: pointer;\n",
              "      display: none;\n",
              "      fill: #1967D2;\n",
              "      height: 32px;\n",
              "      padding: 0 0 0 0;\n",
              "      width: 32px;\n",
              "    }\n",
              "\n",
              "    .colab-df-convert:hover {\n",
              "      background-color: #E2EBFA;\n",
              "      box-shadow: 0px 1px 2px rgba(60, 64, 67, 0.3), 0px 1px 3px 1px rgba(60, 64, 67, 0.15);\n",
              "      fill: #174EA6;\n",
              "    }\n",
              "\n",
              "    [theme=dark] .colab-df-convert {\n",
              "      background-color: #3B4455;\n",
              "      fill: #D2E3FC;\n",
              "    }\n",
              "\n",
              "    [theme=dark] .colab-df-convert:hover {\n",
              "      background-color: #434B5C;\n",
              "      box-shadow: 0px 1px 3px 1px rgba(0, 0, 0, 0.15);\n",
              "      filter: drop-shadow(0px 1px 2px rgba(0, 0, 0, 0.3));\n",
              "      fill: #FFFFFF;\n",
              "    }\n",
              "  </style>\n",
              "\n",
              "      <script>\n",
              "        const buttonEl =\n",
              "          document.querySelector('#df-ea292c31-2b95-4911-9d4f-7d565dd2d7e4 button.colab-df-convert');\n",
              "        buttonEl.style.display =\n",
              "          google.colab.kernel.accessAllowed ? 'block' : 'none';\n",
              "\n",
              "        async function convertToInteractive(key) {\n",
              "          const element = document.querySelector('#df-ea292c31-2b95-4911-9d4f-7d565dd2d7e4');\n",
              "          const dataTable =\n",
              "            await google.colab.kernel.invokeFunction('convertToInteractive',\n",
              "                                                     [key], {});\n",
              "          if (!dataTable) return;\n",
              "\n",
              "          const docLinkHtml = 'Like what you see? Visit the ' +\n",
              "            '<a target=\"_blank\" href=https://colab.research.google.com/notebooks/data_table.ipynb>data table notebook</a>'\n",
              "            + ' to learn more about interactive tables.';\n",
              "          element.innerHTML = '';\n",
              "          dataTable['output_type'] = 'display_data';\n",
              "          await google.colab.output.renderOutput(dataTable, element);\n",
              "          const docLink = document.createElement('div');\n",
              "          docLink.innerHTML = docLinkHtml;\n",
              "          element.appendChild(docLink);\n",
              "        }\n",
              "      </script>\n",
              "    </div>\n",
              "  </div>\n",
              "  "
            ]
          },
          "metadata": {},
          "execution_count": 19
        }
      ]
    },
    {
      "cell_type": "code",
      "source": [
        "# Somme cumulée des valeurs propre. Elle sera utilisé pour créer un step plot pour visualiser la variance expliquée par chaque composante principale.\n",
        "sommme_cumule_var = np.cumsum(acp[\"ratio_var_explique\"])\n",
        "\n",
        "\n",
        "\n",
        "sns.set(style=\"darkgrid\")\n",
        "\n",
        "# creation des deux graphes\n",
        "fig, (ax1, ax2) = plt.subplots(1, 2, figsize = (12, 5))\n",
        "\n",
        "# definition du graphe un\n",
        "sns.set_color_codes(\"pastel\")\n",
        "sns.barplot(x=\"variance_explique\", y=\"ACP\", data=df_acp_variance,\n",
        "            label=\"Total\", color=\"b\")\n",
        "ax2.set_title(\"Variance expliquée par CP\")\n",
        "ax2.set_xlabel(\"Variance\")\n",
        "ax2.legend(loc='best')\n",
        "\n",
        "# definition du graphe deux\n",
        "ax1.plot(list_acp,sommme_cumule_var, color=\"purple\", label='Variance expliquée cumulée')\n",
        "ax1.bar(range(0,len(acp[\"ratio_var_explique\"])), acp[\"ratio_var_explique\"], alpha=0.5, align='center', label='Variance individuelle expliquée', color='blue')\n",
        "ax1.axhline(y = 0.9, color = 'r', linestyle = '--',label='Seuil à 90%')\n",
        "ax1.set_title(\"Variance expliqué vs # de CP\")\n",
        "ax1.set_ylabel('Ratio de variance expliquée')\n",
        "ax1.set_xlabel(\"Composantes principales\")\n",
        "ax1.legend(loc='best')\n",
        "\n",
        "# on affiche\n",
        "plt.show()"
      ],
      "metadata": {
        "colab": {
          "base_uri": "https://localhost:8080/"
        },
        "id": "NHZQngH5PyD6",
        "outputId": "db3ae14d-a12f-46f9-f635-bb46d87f245e"
      },
      "execution_count": null,
      "outputs": [
        {
          "output_type": "display_data",
          "data": {
            "text/plain": [
              "<Figure size 864x360 with 2 Axes>"
            ],
            "image/png": "[encoded data removed]"
          },
          "metadata": {}
        }
      ]
    },
    {
      "cell_type": "markdown",
      "source": [
        "# **PARTIE 2 - Qualité de l’ACP**"
      ],
      "metadata": {
        "id": "aNRYpMAVP27z"
      }
    },
    {
      "cell_type": "markdown",
      "source": [
        "# **Q3)**"
      ],
      "metadata": {
        "id": "vPAn_cGo3Iuz"
      }
    },
    {
      "cell_type": "markdown",
      "source": [
        "On réalise le Scree plot pour utiliser la règle de Cattell"
      ],
      "metadata": {
        "id": "wNAzfGQ5-B99"
      }
    },
    {
      "cell_type": "markdown",
      "source": [
        "***Cas centrée***"
      ],
      "metadata": {
        "id": "wkW179aN-L7V"
      }
    },
    {
      "cell_type": "code",
      "source": [
        "PC_values = np.arange(acp.n_components_) + 1\n",
        "plt.plot(list_acp, acp.explained_variance_ratio_, 'ro-', linewidth=2)\n",
        "plt.title('Graphique Scree ACP Centrée')\n",
        "plt.xlabel('Composante Principales')\n",
        "plt.ylabel('Proportion de Variance Expliquée')\n",
        "plt.show()"
      ],
      "metadata": {
        "colab": {
          "base_uri": "https://localhost:8080/"
        },
        "id": "ZQQaMP6w-IvM",
        "outputId": "4ece3344-c05d-4ab2-ed6d-caa04a8fb6a7"
      },
      "execution_count": null,
      "outputs": [
        {
          "output_type": "display_data",
          "data": {
            "text/plain": [
              "<Figure size 432x288 with 1 Axes>"
            ],
            "image/png": "[encoded data removed]"
          },
          "metadata": {}
        }
      ]
    },
    {
      "cell_type": "markdown",
      "source": [
        "***Cas normée***"
      ],
      "metadata": {
        "id": "63vUcMxR-PDe"
      }
    },
    {
      "cell_type": "code",
      "source": [
        "PC_values = np.arange(acp.n_components_) + 1\n",
        "plt.plot(list_acp, acp.explained_variance_ratio_, 'ro-', linewidth=2)\n",
        "plt.title('Graphique Scree ACP Normée')\n",
        "plt.xlabel('Composante Principales')\n",
        "plt.ylabel('Proportion de Variance Expliquée')\n",
        "plt.show()"
      ],
      "metadata": {
        "colab": {
          "base_uri": "https://localhost:8080/"
        },
        "id": "xEcnlcbM-Rg2",
        "outputId": "bee8bf1a-2221-4198-d942-c33019e02f7d"
      },
      "execution_count": null,
      "outputs": [
        {
          "output_type": "display_data",
          "data": {
            "text/plain": [
              "<Figure size 432x288 with 1 Axes>"
            ],
            "image/png": "[encoded data removed]"
          },
          "metadata": {}
        }
      ]
    },
    {
      "cell_type": "markdown",
      "source": [
        "# **Q4)**"
      ],
      "metadata": {
        "id": "E_0J-hqbxccf"
      }
    },
    {
      "cell_type": "markdown",
      "source": [
        "## ***ACP CENTREE***"
      ],
      "metadata": {
        "id": "IUMDT1s89FO6"
      }
    },
    {
      "cell_type": "code",
      "source": [
        "#On prendra k de 2 à 4 pour traiter les cas centrée et normée\n",
        "Vecteur_Propre= pd.DataFrame(acp[\"vecteur propre\"],columns=[\"X1\",\"X2\",\"X3\",\"X4\",\"X5\",\"X6\",\"X7\",\"X8\"]) # matrice des vecteurs propres\n",
        "X_centree = centrer_data(df) # matrice de nos donnees initiales centrees\n",
        "n = X_centree.shape[0]\n",
        "p = X_centree.shape[1]\n",
        "\n",
        "Vecteur_Propre.shape\n",
        "#Changement de Base \n",
        "X_centree_nouvelle_base = X_centree.dot(Vecteur_Propre.to_numpy())# .dot permet de faire le produit matriciel sur des dataframes\n",
        "\n",
        "#Qualité de la projection cas centrée, on utilise la formule de l'énoncé\n",
        "\n",
        "Qualité_individus_centree =  [[0]*n,[0]*n,[0]*n]\n",
        "\n",
        "for k in range(3,6): \n",
        "  for i in range (0,n):\n",
        "   denominateur = sum(X_centree_nouvelle_base.iloc[i]**2)\n",
        "   numerateur = 0\n",
        "   for j in range(0,k):\n",
        "      numerateur  = numerateur + X_centree_nouvelle_base.iloc[i,j]**2\n",
        "   Qualité_individus_centree[k-3][i] = numerateur/denominateur \n"
      ],
      "metadata": {
        "id": "dHuwfCS_xh2e"
      },
      "execution_count": null,
      "outputs": []
    },
    {
      "cell_type": "code",
      "source": [
        "#creation du graphique\n",
        "plt.plot(Qualité_individus_centree[0], label=\"k=2\")\n",
        "plt.plot(Qualité_individus_centree[1], label=\"k=3\")\n",
        "plt.plot(Qualité_individus_centree[2], label=\"k=4\")\n",
        "plt.title(\"Cas ACP centrée : Qualité de la projection chez les individus\")\n",
        "plt.xlabel(\"Individus\")\n",
        "plt.ylabel(\"Qualité\")\n",
        "plt.legend(loc='best')\n",
        "\n",
        "\n"
      ],
      "metadata": {
        "colab": {
          "base_uri": "https://localhost:8080/"
        },
        "id": "ypjnp3hETf_F",
        "outputId": "2a535be9-57f5-43fe-e2d4-4f7500704f33"
      },
      "execution_count": null,
      "outputs": [
        {
          "output_type": "execute_result",
          "data": {
            "text/plain": [
              "<matplotlib.legend.Legend at 0x7f2b4c3202d0>"
            ]
          },
          "metadata": {},
          "execution_count": 281
        },
        {
          "output_type": "display_data",
          "data": {
            "text/plain": [
              "<Figure size 432x288 with 1 Axes>"
            ],
            "image/png": "[encoded data removed]"
          },
          "metadata": {}
        }
      ]
    },
    {
      "cell_type": "code",
      "source": [],
      "metadata": {
        "id": "ZVRdd5St737r"
      },
      "execution_count": null,
      "outputs": []
    },
    {
      "cell_type": "markdown",
      "source": [
        "## ***ACP NORMEE***"
      ],
      "metadata": {
        "id": "Diugs5Yd74Xp"
      }
    },
    {
      "cell_type": "code",
      "source": [
        "Vecteur_Propre= pd.DataFrame(acp[\"vecteur propre\"],columns=[\"X1\",\"X2\",\"X3\",\"X4\",\"X5\",\"X6\",\"X7\",\"X8\"]) # matrice des vecteurs propres\n",
        "X_centree = centrer_data(df) # matrice de nos donnees initiales centrees\n",
        "X_normee = normer_data(X_centree) # matrice de nos donnees initiales normee\n",
        "n = X_centree.shape[0]\n",
        "p = X_centree.shape[1]\n",
        "\n",
        "Vecteur_Propre.shape\n",
        "#Changement de Base \n",
        "X_normee_nouvelle_base = X_normee.dot(Vecteur_Propre.to_numpy())# .dot permet de faire le produit matriciel sur des dataframes\n",
        "\n",
        "#Qualité de la projection cas centrée, on utilise la formule de l'énoncé\n",
        "\n",
        "Qualité_individus_normee =  [[0]*n,[0]*n,[0]*n]\n",
        "\n",
        "for k in range(3,6): \n",
        "  for i in range (0,n):\n",
        "   denominateur = sum(X_normee_nouvelle_base.iloc[i]**2)\n",
        "   numerateur = 0\n",
        "   for j in range(0,k):\n",
        "      numerateur  = numerateur + X_normee_nouvelle_base.iloc[i,j]**2\n",
        "   Qualité_individus_normee[k-3][i] = numerateur/denominateur \n"
      ],
      "metadata": {
        "id": "GKJIvbky74Xq"
      },
      "execution_count": null,
      "outputs": []
    },
    {
      "cell_type": "code",
      "source": [
        "plt.plot(Qualité_individus_normee[0], label=\"k=2\")\n",
        "plt.plot(Qualité_individus_normee[1], label=\"k=3\")\n",
        "plt.plot(Qualité_individus_normee[2], label=\"k=4\")\n",
        "\n",
        "plt.title(\"Cas ACP normée : Qualité de la projection chez les individus\")\n",
        "plt.xlabel(\"Individus\")\n",
        "plt.ylabel(\"Qualité\")\n",
        "plt.legend(loc='best')\n",
        "\n",
        "\n"
      ],
      "metadata": {
        "colab": {
          "base_uri": "https://localhost:8080/",
          "height": 318
        },
        "outputId": "d66e10ce-32d1-4de6-daa8-51ad6053c7b6",
        "id": "_CfUx18974Xq"
      },
      "execution_count": null,
      "outputs": [
        {
          "output_type": "execute_result",
          "data": {
            "text/plain": [
              "<matplotlib.legend.Legend at 0x7f362e395810>"
            ]
          },
          "metadata": {},
          "execution_count": 22
        },
        {
          "output_type": "display_data",
          "data": {
            "text/plain": [
              "<Figure size 432x288 with 1 Axes>"
            ],
            "image/png": "[encoded data removed]"
          },
          "metadata": {}
        }
      ]
    },
    {
      "cell_type": "markdown",
      "source": [
        "# **Q5)**"
      ],
      "metadata": {
        "id": "yVGVt4aS1Ner"
      }
    },
    {
      "cell_type": "markdown",
      "source": [
        "## ***ACP CENTREE***"
      ],
      "metadata": {
        "id": "W7DvvROEWEmO"
      }
    },
    {
      "cell_type": "code",
      "source": [
        "Vecteur_Propre= pd.DataFrame(acp[\"vecteur propre\"],columns=[\"X1\",\"X2\",\"X3\",\"X4\",\"X5\",\"X6\",\"X7\",\"X8\"]) # matrice des vecteurs propres\n",
        "X_centree = centrer_data(df) # matrice de nos donnees initiales centrees\n",
        "n = X_centree.shape[0]\n",
        "p = X_centree.shape[1]\n",
        "\n",
        "#Changement de Base \n",
        "X_centree_nouvelle_base = X_centree.dot(Vecteur_Propre.to_numpy())# .dot permet de faire le produit matriciel sur des dataframes\n",
        "\n",
        "\n",
        "ContributionCentrée = np.zeros((n,p))\n",
        "for i in range(0,n):\n",
        "  for j in range(0,p):\n",
        "    ContributionCentrée[i,j] = ((1/n)*X_centree_nouvelle_base.iloc[i,j]**2)/Vecteur_Propre.iloc[j,j]\n",
        "\n",
        "ContributionCentrée = pd.DataFrame(ContributionCentrée)"
      ],
      "metadata": {
        "id": "VrQpGIcc1RW6"
      },
      "execution_count": null,
      "outputs": []
    },
    {
      "cell_type": "code",
      "source": [
        "plt_heatmap = plt.figure(figsize=(10,15))\n",
        "sns.heatmap(ContributionCentrée)\n",
        "plt.show"
      ],
      "metadata": {
        "colab": {
          "base_uri": "https://localhost:8080/",
          "height": 883
        },
        "id": "CKnk2nJ_FHIN",
        "outputId": "fa5e9080-6e42-4d8e-8ecc-b9f2cd0169a2"
      },
      "execution_count": null,
      "outputs": [
        {
          "output_type": "execute_result",
          "data": {
            "text/plain": [
              "<function matplotlib.pyplot.show(*args, **kw)>"
            ]
          },
          "metadata": {},
          "execution_count": 344
        },
        {
          "output_type": "display_data",
          "data": {
            "text/plain": [
              "<Figure size 720x1080 with 2 Axes>"
            ],
            "image/png": "[encoded data removed]"
          },
          "metadata": {}
        }
      ]
    },
    {
      "cell_type": "code",
      "source": [
        "ContributionCentrée.iloc[:,2] \n",
        "# on voit que l'observation 9 à une forte contribution sur la CP3"
      ],
      "metadata": {
        "colab": {
          "base_uri": "https://localhost:8080/"
        },
        "id": "ce8ATfJhFVcj",
        "outputId": "1368bb9c-ffd9-465a-d097-16281c5709ef"
      },
      "execution_count": null,
      "outputs": [
        {
          "output_type": "execute_result",
          "data": {
            "text/plain": [
              "0      225.403029\n",
              "1        0.001382\n",
              "2       66.605070\n",
              "3       72.207514\n",
              "4       28.203451\n",
              "5       44.362549\n",
              "6       66.678766\n",
              "7       99.531634\n",
              "8      225.678954\n",
              "9     8670.898614\n",
              "10      21.237479\n",
              "11      21.042050\n",
              "12       2.766690\n",
              "13     175.440358\n",
              "14     219.875637\n",
              "15      28.973673\n",
              "16       5.674677\n",
              "17       0.463867\n",
              "18      11.456437\n",
              "19      43.854326\n",
              "20      26.070526\n",
              "21      22.093076\n",
              "22      78.418742\n",
              "23     321.553416\n",
              "24     373.265541\n",
              "25     116.427053\n",
              "Name: 2, dtype: float64"
            ]
          },
          "metadata": {},
          "execution_count": 352
        }
      ]
    },
    {
      "cell_type": "markdown",
      "source": [
        "## ***ACP NORMEE***"
      ],
      "metadata": {
        "id": "FfVAUhQGAJqK"
      }
    },
    {
      "cell_type": "code",
      "source": [
        "Vecteur_Propre= pd.DataFrame(acp[\"vecteur propre\"],columns=[\"X1\",\"X2\",\"X3\",\"X4\",\"X5\",\"X6\",\"X7\",\"X8\"]) # matrice des vecteurs propres\n",
        "X_centree = centrer_data(df) # matrice de nos donnees initiales centrees\n",
        "X_normee = normer_data(X_centree)\n",
        "n = X_centree.shape[0]\n",
        "p = X_centree.shape[1]\n",
        "\n",
        "#Changement de Base \n",
        "X_normee_nouvelle_base = X_normee.dot(Vecteur_Propre.to_numpy())# .dot permet de faire le produit matriciel sur des dataframes\n",
        "\n",
        "\n",
        "ContributionNormée = np.zeros((n,p))\n",
        "for i in range(0,n):\n",
        "  for j in range(0,p):\n",
        "    ContributionNormée[i,j] = ((1/n)*X_normee_nouvelle_base.iloc[i,j]**2)/Vecteur_Propre.iloc[j,j]\n",
        "ContributionNormée = pd.DataFrame(ContributionNormée)\n",
        "\n"
      ],
      "metadata": {
        "id": "EPJQRkKDAJqL",
        "colab": {
          "base_uri": "https://localhost:8080/",
          "height": 235
        },
        "outputId": "f423f0b0-3b5f-4c1e-a1ce-e7734ec6d223"
      },
      "execution_count": null,
      "outputs": [
        {
          "output_type": "error",
          "ename": "TypeError",
          "evalue": "ignored",
          "traceback": [
            "\u001b[0;31m---------------------------------------------------------------------------\u001b[0m",
            "\u001b[0;31mTypeError\u001b[0m                                 Traceback (most recent call last)",
            "\u001b[0;32m<ipython-input-21-4b81086412e5>\u001b[0m in \u001b[0;36m<module>\u001b[0;34m\u001b[0m\n\u001b[0;32m----> 1\u001b[0;31m \u001b[0mVecteur_Propre\u001b[0m\u001b[0;34m=\u001b[0m \u001b[0mpd\u001b[0m\u001b[0;34m.\u001b[0m\u001b[0mDataFrame\u001b[0m\u001b[0;34m(\u001b[0m\u001b[0macp\u001b[0m\u001b[0;34m[\u001b[0m\u001b[0;34m\"vecteur propre\"\u001b[0m\u001b[0;34m]\u001b[0m\u001b[0;34m,\u001b[0m\u001b[0mcolumns\u001b[0m\u001b[0;34m=\u001b[0m\u001b[0;34m[\u001b[0m\u001b[0;34m\"X1\"\u001b[0m\u001b[0;34m,\u001b[0m\u001b[0;34m\"X2\"\u001b[0m\u001b[0;34m,\u001b[0m\u001b[0;34m\"X3\"\u001b[0m\u001b[0;34m,\u001b[0m\u001b[0;34m\"X4\"\u001b[0m\u001b[0;34m,\u001b[0m\u001b[0;34m\"X5\"\u001b[0m\u001b[0;34m,\u001b[0m\u001b[0;34m\"X6\"\u001b[0m\u001b[0;34m,\u001b[0m\u001b[0;34m\"X7\"\u001b[0m\u001b[0;34m,\u001b[0m\u001b[0;34m\"X8\"\u001b[0m\u001b[0;34m]\u001b[0m\u001b[0;34m)\u001b[0m \u001b[0;31m# matrice des vecteurs propres\u001b[0m\u001b[0;34m\u001b[0m\u001b[0;34m\u001b[0m\u001b[0m\n\u001b[0m\u001b[1;32m      2\u001b[0m \u001b[0mX_centree\u001b[0m \u001b[0;34m=\u001b[0m \u001b[0mcentrer_data\u001b[0m\u001b[0;34m(\u001b[0m\u001b[0mdf\u001b[0m\u001b[0;34m)\u001b[0m \u001b[0;31m# matrice de nos donnees initiales centrees\u001b[0m\u001b[0;34m\u001b[0m\u001b[0;34m\u001b[0m\u001b[0m\n\u001b[1;32m      3\u001b[0m \u001b[0mX_normee\u001b[0m \u001b[0;34m=\u001b[0m \u001b[0mnormer_data\u001b[0m\u001b[0;34m(\u001b[0m\u001b[0mX_centree\u001b[0m\u001b[0;34m)\u001b[0m\u001b[0;34m\u001b[0m\u001b[0;34m\u001b[0m\u001b[0m\n\u001b[1;32m      4\u001b[0m \u001b[0mn\u001b[0m \u001b[0;34m=\u001b[0m \u001b[0mX_centree\u001b[0m\u001b[0;34m.\u001b[0m\u001b[0mshape\u001b[0m\u001b[0;34m[\u001b[0m\u001b[0;36m0\u001b[0m\u001b[0;34m]\u001b[0m\u001b[0;34m\u001b[0m\u001b[0;34m\u001b[0m\u001b[0m\n\u001b[1;32m      5\u001b[0m \u001b[0mp\u001b[0m \u001b[0;34m=\u001b[0m \u001b[0mX_centree\u001b[0m\u001b[0;34m.\u001b[0m\u001b[0mshape\u001b[0m\u001b[0;34m[\u001b[0m\u001b[0;36m1\u001b[0m\u001b[0;34m]\u001b[0m\u001b[0;34m\u001b[0m\u001b[0;34m\u001b[0m\u001b[0m\n",
            "\u001b[0;31mTypeError\u001b[0m: 'PCA' object is not subscriptable"
          ]
        }
      ]
    },
    {
      "cell_type": "code",
      "source": [
        "plt_heatmap = plt.figure(figsize=(10,15))\n",
        "sns.heatmap(ContributionNormée)\n",
        "plt.show"
      ],
      "metadata": {
        "colab": {
          "base_uri": "https://localhost:8080/",
          "height": 883
        },
        "id": "VZ5JXmr9Cpmc",
        "outputId": "d41f2b66-a6f7-442a-a643-93e3f295d65c"
      },
      "execution_count": null,
      "outputs": [
        {
          "output_type": "execute_result",
          "data": {
            "text/plain": [
              "<function matplotlib.pyplot.show(*args, **kw)>"
            ]
          },
          "metadata": {},
          "execution_count": 325
        },
        {
          "output_type": "display_data",
          "data": {
            "text/plain": [
              "<Figure size 720x1080 with 2 Axes>"
            ],
            "image/png": "[encoded data removed]"
          },
          "metadata": {}
        }
      ]
    },
    {
      "cell_type": "code",
      "source": [
        "ContributionNormée.iloc[:,2]\n",
        "# on voit que l'observation 9 à une forte contribution sur la CP3"
      ],
      "metadata": {
        "colab": {
          "base_uri": "https://localhost:8080/"
        },
        "id": "Pl-KWsYiAeZD",
        "outputId": "a12e4426-6fd4-4a83-b5e8-0fafb366738c"
      },
      "execution_count": null,
      "outputs": [
        {
          "output_type": "execute_result",
          "data": {
            "text/plain": [
              "0      0.846747\n",
              "1      0.001243\n",
              "2      0.433715\n",
              "3      0.166885\n",
              "4      0.077766\n",
              "5      0.094289\n",
              "6      0.430785\n",
              "7      0.420466\n",
              "8      0.846669\n",
              "9     19.019212\n",
              "10     0.292831\n",
              "11     0.169616\n",
              "12     0.023904\n",
              "13     0.911451\n",
              "14     0.924294\n",
              "15     0.006241\n",
              "16     0.007231\n",
              "17     0.058501\n",
              "18     0.004588\n",
              "19     0.081382\n",
              "20     0.119367\n",
              "21     0.119636\n",
              "22     0.067416\n",
              "23     1.623589\n",
              "24     1.695292\n",
              "25     0.170012\n",
              "Name: 2, dtype: float64"
            ]
          },
          "metadata": {},
          "execution_count": 351
        }
      ]
    },
    {
      "cell_type": "markdown",
      "source": [
        "# **Q6)**"
      ],
      "metadata": {
        "id": "ewTzNf4QGEPt"
      }
    },
    {
      "cell_type": "markdown",
      "source": [
        "## **ACP CENTREE**"
      ],
      "metadata": {
        "id": "7-N4Hbg7I5Bj"
      }
    },
    {
      "cell_type": "code",
      "source": [
        "#Avec Sklearn\n",
        "\n",
        "#classe pour l'ACP\n",
        "from sklearn.decomposition import PCA\n",
        "#instanciation\n",
        "acp = PCA()\n",
        "#calculs\n",
        "df_acp = acp.fit_transform(df)\n",
        "vecteur_propre = acp.components_ \n",
        "\n",
        "X_centree = centrer_data(df) # matrice de nos donnees initiales centrees\n",
        "n = X_centree.shape[0]\n",
        "p = X_centree.shape[1]\n",
        "\n",
        "#Changement de Base \n",
        "X_centree_nouvelle_baseSK = X_centree.dot(vecteur_propre)# .dot permet de faire le produit matriciel sur des dataframes\n",
        "#Recuperation des coordonnes dans les deux composantes du premier plan factoriel\n",
        "X_CP1_Sklearn = X_centree_nouvelle_baseSK.iloc[:,1]\n",
        "X_CP2_Sklearn = X_centree_nouvelle_baseSK.iloc[:,2]\n",
        "\n",
        "##########################################################################\n",
        "\n",
        "#Avec Numpy & Pandas\n",
        "def ACP(matrice):\n",
        "\n",
        "  acp = {}\n",
        "\n",
        "  matrice = centrer_data(matrice) # on centre nos données\n",
        "\n",
        "  # on cacule la matrice de covariance que l'on covertit en array\n",
        "  matrice_cov = np.array(calcul_indicateurs_statistiques(matrice)[\"covariance\"]) \n",
        "\n",
        "  # on calcule les vectuers propre et lambdas, ils ne sont pas triés\n",
        "  lambdas,vecteur_propre=np.linalg.eig(matrice_cov) \n",
        "  \n",
        "  # On les trie dans le sens décroissant en fonction de la variance\n",
        "  index = lambdas.argsort()[::-1] \n",
        "  lambdas = lambdas[index]\n",
        "  vecteur_propre = vecteur_propre[index]\n",
        "\n",
        "  # calcul des variables expliquées\n",
        "  total_lambdas = sum(lambdas)\n",
        "  ratio_var_explique = [(i/total_lambdas) for i in lambdas]\n",
        "\n",
        "  acp[\"lambdas\"] = lambdas\n",
        "  acp[\"vecteur propre\"] = vecteur_propre\n",
        "  acp[\"ratio_var_explique\"] = ratio_var_explique\n",
        " \n",
        "  return acp\n",
        "\n",
        "acpNP = ACP(df)\n",
        "\n",
        "Vecteur_Propre= pd.DataFrame(acpNP[\"vecteur propre\"],columns=[\"X1\",\"X2\",\"X3\",\"X4\",\"X5\",\"X6\",\"X7\",\"X8\"]) # matrice des vecteurs propres\n",
        "X_centree = centrer_data(df) # matrice de nos donnees initiales centrees\n",
        "#Changement de Base \n",
        "X_centree_nouvelle_base = X_centree.dot(Vecteur_Propre.to_numpy())# .dot permet de faire le produit matriciel sur des dataframes\n",
        "#Recuperation des coordonnes dans les deux composantes du premier plan factoriel\n",
        "X_CP1_NP = X_centree_nouvelle_base.iloc[:,1]\n",
        "X_CP2_NP = X_centree_nouvelle_base.iloc[:,2]\n",
        "\n",
        "\n",
        "\n",
        "\n"
      ],
      "metadata": {
        "id": "3i90EbxJJKxk"
      },
      "execution_count": null,
      "outputs": []
    },
    {
      "cell_type": "code",
      "source": [
        "\n",
        "plt.scatter(X_CP1_NP,X_CP2_NP, label=\"Numpy & Pandas\")\n",
        "plt.scatter(X_CP1_Sklearn,X_CP2_Sklearn, label=\"Sklearn\")\n",
        "plt.title(\"ACP Centrée | Premier Plan Factoriel\")\n",
        "plt.xlabel(\"CP1\")\n",
        "plt.ylabel(\"CP2\")\n",
        "plt.legend(loc=\"best\")\n",
        "\n"
      ],
      "metadata": {
        "colab": {
          "base_uri": "https://localhost:8080/",
          "height": 312
        },
        "id": "NuXm-BLTLL4m",
        "outputId": "1965cef6-bc88-4c39-a2c2-ebc7fe1a60c6"
      },
      "execution_count": null,
      "outputs": [
        {
          "output_type": "execute_result",
          "data": {
            "text/plain": [
              "<matplotlib.legend.Legend at 0x7f6260e0b250>"
            ]
          },
          "metadata": {},
          "execution_count": 10
        },
        {
          "output_type": "display_data",
          "data": {
            "text/plain": [
              "<Figure size 432x288 with 1 Axes>"
            ],
            "image/png": "[encoded data removed]"
          },
          "metadata": {
            "needs_background": "light"
          }
        }
      ]
    },
    {
      "cell_type": "markdown",
      "source": [
        "## **ACP NORMEE**"
      ],
      "metadata": {
        "id": "paKZEe3lI5Ir"
      }
    },
    {
      "cell_type": "code",
      "source": [
        "#Avec Sklearn\n",
        "\n",
        "from sklearn.preprocessing import StandardScaler\n",
        "#instanciation\n",
        "sc = StandardScaler()\n",
        "#transformation – centrage-réduction\n",
        "# La libraire Sklearn réalise une normalisation biaisé\n",
        "df_norme = sc.fit_transform(df)\n",
        "\n",
        "\n",
        "\n",
        "#classe pour l'ACP\n",
        "from sklearn.decomposition import PCA\n",
        "#instanciation\n",
        "acp = PCA()\n",
        "#calculs\n",
        "df_acp = acp.fit_transform(df_norme)\n",
        "vecteur_propre = acp.components_ \n",
        "\n",
        "#Changement de Base \n",
        "df_norme_NB= df_norme.dot(vecteur_propre)# .dot permet de faire le produit matriciel sur des dataframes\n",
        "df_norme_NB = pd.DataFrame(df_norme_NB)\n",
        "#Recuperation des coordonnes dans les deux composantes du premier plan factoriel\n",
        "X_CP1_Sklearn = df_norme_NB.iloc[:,1]\n",
        "X_CP2_Sklearn = df_norme_NB.iloc[:,2]\n",
        "\n",
        "##########################################################################\n",
        "\n",
        "#Avec Numpy & Pandas\n",
        "def ACP(matrice):\n",
        "\n",
        "  acp = {}\n",
        "\n",
        "  matrice = centrer_data(matrice) # on centre nos données\n",
        "  matrice = normer_data(matrice) # on norme nos données\n",
        "\n",
        "  # on cacule la matrice de covariance que l'on covertit en array\n",
        "  matrice_cov = np.array(calcul_indicateurs_statistiques(matrice)[\"covariance\"]) \n",
        "\n",
        "  # on calcule les vectuers propre et lambdas, ils ne sont pas triés\n",
        "  lambdas,vecteur_propre=np.linalg.eig(matrice_cov) \n",
        "  \n",
        "  # On les trie dans le sens décroissant en fonction de la variance\n",
        "  index = lambdas.argsort()[::-1] \n",
        "  lambdas = lambdas[index]\n",
        "  vecteur_propre = vecteur_propre[index]\n",
        "\n",
        "  # calcul des variables expliquées\n",
        "  total_lambdas = sum(lambdas)\n",
        "  ratio_var_explique = [(i/total_lambdas) for i in lambdas]\n",
        "\n",
        "  acp[\"lambdas\"] = lambdas\n",
        "  acp[\"vecteur propre\"] = vecteur_propre\n",
        "  acp[\"ratio_var_explique\"] = ratio_var_explique\n",
        " \n",
        "  return acp\n",
        "\n",
        "acp = ACP(df)\n",
        "\n",
        "Vecteur_Propre= pd.DataFrame(acp[\"vecteur propre\"],columns=[\"X1\",\"X2\",\"X3\",\"X4\",\"X5\",\"X6\",\"X7\",\"X8\"]) # matrice des vecteurs propres\n",
        "X_centree = centrer_data(df) # matrice de nos donnees initiales centrees\n",
        "X_normee = normer_data(df)\n",
        "#Changement de Base \n",
        "X_normee_nouvelle_base = X_normee.dot(Vecteur_Propre.to_numpy())# .dot permet de faire le produit matriciel sur des dataframes\n",
        "#Recuperation des coordonnes dans les deux composantes du premier plan factoriel\n",
        "X_CP1_NP = X_normee_nouvelle_base.iloc[:,1]\n",
        "X_CP2_NP = X_normee_nouvelle_base .iloc[:,2]\n",
        "\n",
        "\n",
        "\n",
        "\n"
      ],
      "metadata": {
        "id": "vPapDqB1MlWf"
      },
      "execution_count": null,
      "outputs": []
    },
    {
      "cell_type": "code",
      "source": [
        "sns.set(style=\"darkgrid\")\n",
        "plt.scatter(X_CP1_NP,X_CP2_NP, label=\"Numpy & Pandas\")\n",
        "plt.scatter(X_CP1_Sklearn,X_CP2_Sklearn, label=\"Sklearn\")\n",
        "plt.title(\"ACP Normée | Premier Plan Factoriel\")\n",
        "plt.xlabel(\"CP1\")\n",
        "plt.ylabel(\"CP2\")\n",
        "plt.legend(loc=\"best\")\n",
        "\n"
      ],
      "metadata": {
        "colab": {
          "base_uri": "https://localhost:8080/",
          "height": 318
        },
        "id": "sRPfXHYXTQXH",
        "outputId": "e4fb96f8-6788-4cd4-d90d-efc01c16ad8b"
      },
      "execution_count": null,
      "outputs": [
        {
          "output_type": "execute_result",
          "data": {
            "text/plain": [
              "<matplotlib.legend.Legend at 0x7f5bfd1f4c10>"
            ]
          },
          "metadata": {},
          "execution_count": 15
        },
        {
          "output_type": "display_data",
          "data": {
            "text/plain": [
              "<Figure size 432x288 with 1 Axes>"
            ],
            "image/png": "[encoded data removed]"
          },
          "metadata": {}
        }
      ]
    },
    {
      "cell_type": "markdown",
      "source": [
        "# **Q7)**"
      ],
      "metadata": {
        "id": "WZqqveNoG7tT"
      }
    },
    {
      "cell_type": "markdown",
      "source": [
        "## **ACP CENTREE**"
      ],
      "metadata": {
        "id": "7MSyFeC3Vf9G"
      }
    },
    {
      "cell_type": "code",
      "source": [
        "#Avec Sklearn\n",
        "\n",
        "\n",
        "X_centree = centrer_data(df) # matrice de nos donnees initiales centrees\n",
        "n = X_centree.shape[0]\n",
        "p = X_centree.shape[1]\n",
        "\n",
        "\n",
        "#classe pour l'ACP\n",
        "from sklearn.decomposition import PCA\n",
        "#instanciation\n",
        "acp = PCA()\n",
        "#calculs\n",
        "df_acp = acp.fit_transform(df)\n",
        "vecteur_propre = acp.components_ \n",
        "\n",
        "\n",
        "#Changement de Base \n",
        "X_centree_nouvelle_base = X_centree.dot(vecteur_propre)# .dot permet de faire le produit matriciel sur des dataframes\n",
        "#Recuperation des coordonnes dans les deux composantes du premier plan factoriel\n",
        "X_CP1_Sklearn = X_centree_nouvelle_base.iloc[:,1]\n",
        "X_CP2_Sklearn = X_centree_nouvelle_base.iloc[:,2]\n",
        "X_CP3_Sklearn = X_centree_nouvelle_base.iloc[:,3]\n",
        "X_CP4_Sklearn = X_centree_nouvelle_base.iloc[:,4]\n",
        "\n",
        "Noms= [\"CP1\",\"CP2\",\"CP3\"]\n",
        "#Creating a dictionary by passing Series objects as values\n",
        "frame = { 'CP1': X_CP1_Sklearn, 'CP2': X_CP2_Sklearn, 'CP3': X_CP3_Sklearn}\n",
        "#Creating DataFrame by passing Dictionary\n",
        "result = pd.DataFrame(frame)\n"
      ],
      "metadata": {
        "id": "pOD1_p1iUPZP"
      },
      "execution_count": null,
      "outputs": []
    },
    {
      "cell_type": "code",
      "source": [
        "\n",
        "\n",
        "\n",
        "sns.set(style=\"darkgrid\")\n",
        "\n",
        "# creation des deux graphes\n",
        "fig, axs =  plt.subplots(2, 3, figsize = (20, 10) )\n",
        "\n",
        "axs[0,0].scatter(X_CP1_Sklearn,X_CP2_Sklearn, label=\"Sklearn\")\n",
        "axs[0,0].set_xlabel(\"CP1\")\n",
        "axs[0,0].set_ylabel(\"CP2\")\n",
        "\n",
        "axs[0,1].scatter(X_CP1_Sklearn,X_CP3_Sklearn, label=\"Sklearn\")\n",
        "axs[0,1].set_xlabel(\"CP2\")\n",
        "axs[0,1].set_ylabel(\"CP3\")\n",
        "\n",
        "\n",
        "axs[1,1].scatter(X_CP1_Sklearn,X_CP4_Sklearn, label=\"Sklearn\")\n",
        "axs[1,1].set_xlabel(\"CP1\")\n",
        "axs[1,1].set_ylabel(\"CP4\")\n",
        "\n",
        "\n",
        "axs[0,2].scatter(X_CP2_Sklearn,X_CP3_Sklearn, label=\"Sklearn\")\n",
        "axs[0,2].set_xlabel(\"CP2\")\n",
        "axs[0,2].set_ylabel(\"CP3\")\n",
        "\n",
        "\n",
        "axs[1,0].scatter(X_CP2_Sklearn,X_CP4_Sklearn, label=\"Sklearn\")\n",
        "axs[1,0].set_xlabel(\"CP2\")\n",
        "axs[1,0].set_ylabel(\"CP4\")\n",
        "\n",
        "\n",
        "axs[1,2].scatter(X_CP3_Sklearn,X_CP4_Sklearn, label=\"Sklearn\")\n",
        "axs[1,2].set_xlabel(\"CP3\")\n",
        "axs[1,2].set_ylabel(\"CP4\")\n",
        "\n",
        "\n",
        "# on affiche\n",
        "plt.show()"
      ],
      "metadata": {
        "colab": {
          "base_uri": "https://localhost:8080/",
          "height": 611
        },
        "id": "bGseGr9wX2WW",
        "outputId": "3f294405-fbbf-4391-e0bd-052789879cd2"
      },
      "execution_count": null,
      "outputs": [
        {
          "output_type": "display_data",
          "data": {
            "text/plain": [
              "<Figure size 1440x720 with 6 Axes>"
            ],
            "image/png": "[encoded data removed]"
          },
          "metadata": {}
        }
      ]
    },
    {
      "cell_type": "code",
      "source": [
        "import plotly.express as px\n",
        "fig = px.scatter_3d(result, x= \"CP1\", y=\"CP2\", z=\"CP3\")\n",
        "fig.show()"
      ],
      "metadata": {
        "colab": {
          "base_uri": "https://localhost:8080/",
          "height": 542
        },
        "id": "EHnfMJFFW7qG",
        "outputId": "164fe49a-5a4e-491c-8ce7-dae36a2d8018"
      },
      "execution_count": null,
      "outputs": [
        {
          "output_type": "display_data",
          "data": {
            "text/html": [
              "<html>\n",
              "<head><meta charset=\"utf-8\" /></head>\n",
              "<body>\n",
              "    <div>            <script src=\"https://cdnjs.cloudflare.com/ajax/libs/mathjax/2.7.5/MathJax.js?config=TeX-AMS-MML_SVG\"></script><script type=\"text/javascript\">if (window.MathJax) {MathJax.Hub.Config({SVG: {font: \"STIX-Web\"}});}</script>                <script type=\"text/javascript\">window.PlotlyConfig = {MathJaxConfig: 'local'};</script>\n",
              "        <script src=\"https://cdn.plot.ly/plotly-2.8.3.min.js\"></script>                <div id=\"23ff737b-04fc-42a9-b9b5-bf71009414f0\" class=\"plotly-graph-div\" style=\"height:525px; width:100%;\"></div>            <script type=\"text/javascript\">                                    window.PLOTLYENV=window.PLOTLYENV || {};                                    if (document.getElementById(\"23ff737b-04fc-42a9-b9b5-bf71009414f0\")) {                    Plotly.newPlot(                        \"23ff737b-04fc-42a9-b9b5-bf71009414f0\",                        [{\"hovertemplate\":\"CP1=%{x}<br>CP2=%{y}<br>CP3=%{z}<extra></extra>\",\"legendgroup\":\"\",\"marker\":{\"color\":\"#636efa\",\"symbol\":\"circle\"},\"mode\":\"markers\",\"name\":\"\",\"scene\":\"scene\",\"showlegend\":false,\"x\":[-4.5604464664174085,2.4286438608969214,-10.500045093567332,-6.067854207361138,7.891460515188806,6.587532505923163,-10.508141264552508,-2.077689190211694,-4.503490189900748,6.338037750616637,0.21324768231917465,-12.357984456079755,-14.224877467230028,-5.5647101934049505,-2.2296589391982784,-5.532530019053532,6.1742654957546925,17.66088245385904,16.279266262565223,4.695615599646579,-6.611657668528535,3.383050500524453,5.770718831332414,0.8955599531533569,2.3758242189358,4.044979524789686],\"y\":[-15.167854565364685,-20.434657196225135,-4.156360306265928,-7.131749380323927,4.53575871842101,15.858992111271062,-4.220319716759816,-14.500397195805707,-15.134755648772732,-83.10819276564553,-13.802927833491557,4.167785016469949,-2.4778958385032515,-1.8956834895512922,-2.342413168220555,-0.6045548970249625,5.592374369494082,16.155668132166955,15.485265227166485,13.546373104576418,6.138351042933098,23.308725545775538,23.768308806335035,16.960615952983378,18.787518919626148,20.672025054735723],\"z\":[15.768391851794801,13.54323230324954,-4.778361853335502,-4.353648662320539,8.67039305773176,3.64857881214297,-4.717747766479907,14.144318342685247,15.755662416121991,-60.29324827909596,12.13627144651005,-5.795726804020341,-4.882468145429627,-4.669119475588625,-4.483823640024765,-5.18831897352643,8.765511064667068,13.895941226094033,12.385787990321425,3.1749912222995698,-0.430396293453726,-3.051129445614915,-3.4680451588894528,-5.500439593642941,-5.2124058338732535,-5.064199808322359],\"type\":\"scatter3d\"}],                        {\"template\":{\"data\":{\"bar\":[{\"error_x\":{\"color\":\"#2a3f5f\"},\"error_y\":{\"color\":\"#2a3f5f\"},\"marker\":{\"line\":{\"color\":\"#E5ECF6\",\"width\":0.5},\"pattern\":{\"fillmode\":\"overlay\",\"size\":10,\"solidity\":0.2}},\"type\":\"bar\"}],\"barpolar\":[{\"marker\":{\"line\":{\"color\":\"#E5ECF6\",\"width\":0.5},\"pattern\":{\"fillmode\":\"overlay\",\"size\":10,\"solidity\":0.2}},\"type\":\"barpolar\"}],\"carpet\":[{\"aaxis\":{\"endlinecolor\":\"#2a3f5f\",\"gridcolor\":\"white\",\"linecolor\":\"white\",\"minorgridcolor\":\"white\",\"startlinecolor\":\"#2a3f5f\"},\"baxis\":{\"endlinecolor\":\"#2a3f5f\",\"gridcolor\":\"white\",\"linecolor\":\"white\",\"minorgridcolor\":\"white\",\"startlinecolor\":\"#2a3f5f\"},\"type\":\"carpet\"}],\"choropleth\":[{\"colorbar\":{\"outlinewidth\":0,\"ticks\":\"\"},\"type\":\"choropleth\"}],\"contour\":[{\"colorbar\":{\"outlinewidth\":0,\"ticks\":\"\"},\"colorscale\":[[0.0,\"#0d0887\"],[0.1111111111111111,\"#46039f\"],[0.2222222222222222,\"#7201a8\"],[0.3333333333333333,\"#9c179e\"],[0.4444444444444444,\"#bd3786\"],[0.5555555555555556,\"#d8576b\"],[0.6666666666666666,\"#ed7953\"],[0.7777777777777778,\"#fb9f3a\"],[0.8888888888888888,\"#fdca26\"],[1.0,\"#f0f921\"]],\"type\":\"contour\"}],\"contourcarpet\":[{\"colorbar\":{\"outlinewidth\":0,\"ticks\":\"\"},\"type\":\"contourcarpet\"}],\"heatmap\":[{\"colorbar\":{\"outlinewidth\":0,\"ticks\":\"\"},\"colorscale\":[[0.0,\"#0d0887\"],[0.1111111111111111,\"#46039f\"],[0.2222222222222222,\"#7201a8\"],[0.3333333333333333,\"#9c179e\"],[0.4444444444444444,\"#bd3786\"],[0.5555555555555556,\"#d8576b\"],[0.6666666666666666,\"#ed7953\"],[0.7777777777777778,\"#fb9f3a\"],[0.8888888888888888,\"#fdca26\"],[1.0,\"#f0f921\"]],\"type\":\"heatmap\"}],\"heatmapgl\":[{\"colorbar\":{\"outlinewidth\":0,\"ticks\":\"\"},\"colorscale\":[[0.0,\"#0d0887\"],[0.1111111111111111,\"#46039f\"],[0.2222222222222222,\"#7201a8\"],[0.3333333333333333,\"#9c179e\"],[0.4444444444444444,\"#bd3786\"],[0.5555555555555556,\"#d8576b\"],[0.6666666666666666,\"#ed7953\"],[0.7777777777777778,\"#fb9f3a\"],[0.8888888888888888,\"#fdca26\"],[1.0,\"#f0f921\"]],\"type\":\"heatmapgl\"}],\"histogram\":[{\"marker\":{\"pattern\":{\"fillmode\":\"overlay\",\"size\":10,\"solidity\":0.2}},\"type\":\"histogram\"}],\"histogram2d\":[{\"colorbar\":{\"outlinewidth\":0,\"ticks\":\"\"},\"colorscale\":[[0.0,\"#0d0887\"],[0.1111111111111111,\"#46039f\"],[0.2222222222222222,\"#7201a8\"],[0.3333333333333333,\"#9c179e\"],[0.4444444444444444,\"#bd3786\"],[0.5555555555555556,\"#d8576b\"],[0.6666666666666666,\"#ed7953\"],[0.7777777777777778,\"#fb9f3a\"],[0.8888888888888888,\"#fdca26\"],[1.0,\"#f0f921\"]],\"type\":\"histogram2d\"}],\"histogram2dcontour\":[{\"colorbar\":{\"outlinewidth\":0,\"ticks\":\"\"},\"colorscale\":[[0.0,\"#0d0887\"],[0.1111111111111111,\"#46039f\"],[0.2222222222222222,\"#7201a8\"],[0.3333333333333333,\"#9c179e\"],[0.4444444444444444,\"#bd3786\"],[0.5555555555555556,\"#d8576b\"],[0.6666666666666666,\"#ed7953\"],[0.7777777777777778,\"#fb9f3a\"],[0.8888888888888888,\"#fdca26\"],[1.0,\"#f0f921\"]],\"type\":\"histogram2dcontour\"}],\"mesh3d\":[{\"colorbar\":{\"outlinewidth\":0,\"ticks\":\"\"},\"type\":\"mesh3d\"}],\"parcoords\":[{\"line\":{\"colorbar\":{\"outlinewidth\":0,\"ticks\":\"\"}},\"type\":\"parcoords\"}],\"pie\":[{\"automargin\":true,\"type\":\"pie\"}],\"scatter\":[{\"marker\":{\"colorbar\":{\"outlinewidth\":0,\"ticks\":\"\"}},\"type\":\"scatter\"}],\"scatter3d\":[{\"line\":{\"colorbar\":{\"outlinewidth\":0,\"ticks\":\"\"}},\"marker\":{\"colorbar\":{\"outlinewidth\":0,\"ticks\":\"\"}},\"type\":\"scatter3d\"}],\"scattercarpet\":[{\"marker\":{\"colorbar\":{\"outlinewidth\":0,\"ticks\":\"\"}},\"type\":\"scattercarpet\"}],\"scattergeo\":[{\"marker\":{\"colorbar\":{\"outlinewidth\":0,\"ticks\":\"\"}},\"type\":\"scattergeo\"}],\"scattergl\":[{\"marker\":{\"colorbar\":{\"outlinewidth\":0,\"ticks\":\"\"}},\"type\":\"scattergl\"}],\"scattermapbox\":[{\"marker\":{\"colorbar\":{\"outlinewidth\":0,\"ticks\":\"\"}},\"type\":\"scattermapbox\"}],\"scatterpolar\":[{\"marker\":{\"colorbar\":{\"outlinewidth\":0,\"ticks\":\"\"}},\"type\":\"scatterpolar\"}],\"scatterpolargl\":[{\"marker\":{\"colorbar\":{\"outlinewidth\":0,\"ticks\":\"\"}},\"type\":\"scatterpolargl\"}],\"scatterternary\":[{\"marker\":{\"colorbar\":{\"outlinewidth\":0,\"ticks\":\"\"}},\"type\":\"scatterternary\"}],\"surface\":[{\"colorbar\":{\"outlinewidth\":0,\"ticks\":\"\"},\"colorscale\":[[0.0,\"#0d0887\"],[0.1111111111111111,\"#46039f\"],[0.2222222222222222,\"#7201a8\"],[0.3333333333333333,\"#9c179e\"],[0.4444444444444444,\"#bd3786\"],[0.5555555555555556,\"#d8576b\"],[0.6666666666666666,\"#ed7953\"],[0.7777777777777778,\"#fb9f3a\"],[0.8888888888888888,\"#fdca26\"],[1.0,\"#f0f921\"]],\"type\":\"surface\"}],\"table\":[{\"cells\":{\"fill\":{\"color\":\"#EBF0F8\"},\"line\":{\"color\":\"white\"}},\"header\":{\"fill\":{\"color\":\"#C8D4E3\"},\"line\":{\"color\":\"white\"}},\"type\":\"table\"}]},\"layout\":{\"annotationdefaults\":{\"arrowcolor\":\"#2a3f5f\",\"arrowhead\":0,\"arrowwidth\":1},\"autotypenumbers\":\"strict\",\"coloraxis\":{\"colorbar\":{\"outlinewidth\":0,\"ticks\":\"\"}},\"colorscale\":{\"diverging\":[[0,\"#8e0152\"],[0.1,\"#c51b7d\"],[0.2,\"#de77ae\"],[0.3,\"#f1b6da\"],[0.4,\"#fde0ef\"],[0.5,\"#f7f7f7\"],[0.6,\"#e6f5d0\"],[0.7,\"#b8e186\"],[0.8,\"#7fbc41\"],[0.9,\"#4d9221\"],[1,\"#276419\"]],\"sequential\":[[0.0,\"#0d0887\"],[0.1111111111111111,\"#46039f\"],[0.2222222222222222,\"#7201a8\"],[0.3333333333333333,\"#9c179e\"],[0.4444444444444444,\"#bd3786\"],[0.5555555555555556,\"#d8576b\"],[0.6666666666666666,\"#ed7953\"],[0.7777777777777778,\"#fb9f3a\"],[0.8888888888888888,\"#fdca26\"],[1.0,\"#f0f921\"]],\"sequentialminus\":[[0.0,\"#0d0887\"],[0.1111111111111111,\"#46039f\"],[0.2222222222222222,\"#7201a8\"],[0.3333333333333333,\"#9c179e\"],[0.4444444444444444,\"#bd3786\"],[0.5555555555555556,\"#d8576b\"],[0.6666666666666666,\"#ed7953\"],[0.7777777777777778,\"#fb9f3a\"],[0.8888888888888888,\"#fdca26\"],[1.0,\"#f0f921\"]]},\"colorway\":[\"#636efa\",\"#EF553B\",\"#00cc96\",\"#ab63fa\",\"#FFA15A\",\"#19d3f3\",\"#FF6692\",\"#B6E880\",\"#FF97FF\",\"#FECB52\"],\"font\":{\"color\":\"#2a3f5f\"},\"geo\":{\"bgcolor\":\"white\",\"lakecolor\":\"white\",\"landcolor\":\"#E5ECF6\",\"showlakes\":true,\"showland\":true,\"subunitcolor\":\"white\"},\"hoverlabel\":{\"align\":\"left\"},\"hovermode\":\"closest\",\"mapbox\":{\"style\":\"light\"},\"paper_bgcolor\":\"white\",\"plot_bgcolor\":\"#E5ECF6\",\"polar\":{\"angularaxis\":{\"gridcolor\":\"white\",\"linecolor\":\"white\",\"ticks\":\"\"},\"bgcolor\":\"#E5ECF6\",\"radialaxis\":{\"gridcolor\":\"white\",\"linecolor\":\"white\",\"ticks\":\"\"}},\"scene\":{\"xaxis\":{\"backgroundcolor\":\"#E5ECF6\",\"gridcolor\":\"white\",\"gridwidth\":2,\"linecolor\":\"white\",\"showbackground\":true,\"ticks\":\"\",\"zerolinecolor\":\"white\"},\"yaxis\":{\"backgroundcolor\":\"#E5ECF6\",\"gridcolor\":\"white\",\"gridwidth\":2,\"linecolor\":\"white\",\"showbackground\":true,\"ticks\":\"\",\"zerolinecolor\":\"white\"},\"zaxis\":{\"backgroundcolor\":\"#E5ECF6\",\"gridcolor\":\"white\",\"gridwidth\":2,\"linecolor\":\"white\",\"showbackground\":true,\"ticks\":\"\",\"zerolinecolor\":\"white\"}},\"shapedefaults\":{\"line\":{\"color\":\"#2a3f5f\"}},\"ternary\":{\"aaxis\":{\"gridcolor\":\"white\",\"linecolor\":\"white\",\"ticks\":\"\"},\"baxis\":{\"gridcolor\":\"white\",\"linecolor\":\"white\",\"ticks\":\"\"},\"bgcolor\":\"#E5ECF6\",\"caxis\":{\"gridcolor\":\"white\",\"linecolor\":\"white\",\"ticks\":\"\"}},\"title\":{\"x\":0.05},\"xaxis\":{\"automargin\":true,\"gridcolor\":\"white\",\"linecolor\":\"white\",\"ticks\":\"\",\"title\":{\"standoff\":15},\"zerolinecolor\":\"white\",\"zerolinewidth\":2},\"yaxis\":{\"automargin\":true,\"gridcolor\":\"white\",\"linecolor\":\"white\",\"ticks\":\"\",\"title\":{\"standoff\":15},\"zerolinecolor\":\"white\",\"zerolinewidth\":2}}},\"scene\":{\"domain\":{\"x\":[0.0,1.0],\"y\":[0.0,1.0]},\"xaxis\":{\"title\":{\"text\":\"CP1\"}},\"yaxis\":{\"title\":{\"text\":\"CP2\"}},\"zaxis\":{\"title\":{\"text\":\"CP3\"}}},\"legend\":{\"tracegroupgap\":0},\"margin\":{\"t\":60}},                        {\"responsive\": true}                    ).then(function(){\n",
              "                            \n",
              "var gd = document.getElementById('23ff737b-04fc-42a9-b9b5-bf71009414f0');\n",
              "var x = new MutationObserver(function (mutations, observer) {{\n",
              "        var display = window.getComputedStyle(gd).display;\n",
              "        if (!display || display === 'none') {{\n",
              "            console.log([gd, 'removed!']);\n",
              "            Plotly.purge(gd);\n",
              "            observer.disconnect();\n",
              "        }}\n",
              "}});\n",
              "\n",
              "// Listen for the removal of the full notebook cells\n",
              "var notebookContainer = gd.closest('#notebook-container');\n",
              "if (notebookContainer) {{\n",
              "    x.observe(notebookContainer, {childList: true});\n",
              "}}\n",
              "\n",
              "// Listen for the clearing of the current output cell\n",
              "var outputEl = gd.closest('.output');\n",
              "if (outputEl) {{\n",
              "    x.observe(outputEl, {childList: true});\n",
              "}}\n",
              "\n",
              "                        })                };                            </script>        </div>\n",
              "</body>\n",
              "</html>"
            ]
          },
          "metadata": {}
        }
      ]
    },
    {
      "cell_type": "code",
      "source": [],
      "metadata": {
        "id": "zt-bwZBddKrK"
      },
      "execution_count": null,
      "outputs": []
    },
    {
      "cell_type": "markdown",
      "source": [
        "## **ACP NORMEE**"
      ],
      "metadata": {
        "id": "XHZ6DKm7Zi72"
      }
    },
    {
      "cell_type": "code",
      "source": [
        "#Avec Sklearn\n",
        "from sklearn.preprocessing import StandardScaler\n",
        "#instanciation\n",
        "sc = StandardScaler()\n",
        "#transformation – centrage-réduction\n",
        "# La libraire Sklearn réalise une normalisation biaisé\n",
        "df_norme = sc.fit_transform(df)\n",
        "\n",
        "#classe pour l'ACP\n",
        "from sklearn.decomposition import PCA\n",
        "#instanciation\n",
        "acp = PCA()\n",
        "#calculs\n",
        "df_acp = acp.fit_transform(df_norme)\n",
        "vecteur_propre = acp.components_ \n",
        "#Changement de Base \n",
        "X_normee_nouvelle_base = df_norme.dot(vecteur_propre)# .dot permet de faire le produit matriciel sur des dataframes\n",
        "\n",
        "X_normee_nouvelle_base = pd.DataFrame(X_normee_nouvelle_base)\n",
        "#Recuperation des coordonnes dans les deux composantes du premier plan factoriel\n",
        "X_CP1_Sklearn = X_normee_nouvelle_base.iloc[:,1]\n",
        "X_CP2_Sklearn = X_normee_nouvelle_base.iloc[:,2]\n",
        "X_CP3_Sklearn = X_normee_nouvelle_base.iloc[:,3]\n",
        "X_CP4_Sklearn = X_normee_nouvelle_base.iloc[:,4]\n",
        "\n",
        "Noms= [\"CP1\",\"CP2\",\"CP3\"]\n",
        "#Creating a dictionary by passing Series objects as values\n",
        "frame = { 'CP1': X_CP1_Sklearn, 'CP2': X_CP2_Sklearn, 'CP3': X_CP3_Sklearn}\n",
        "#Creating DataFrame by passing Dictionary\n",
        "result = pd.DataFrame(frame)\n"
      ],
      "metadata": {
        "id": "3T95JqEVZk9O"
      },
      "execution_count": null,
      "outputs": []
    },
    {
      "cell_type": "code",
      "source": [
        "import plotly.express as px\n",
        "fig = px.scatter_3d(result, x= \"CP1\", y=\"CP2\", z=\"CP3\")\n",
        "fig.show()"
      ],
      "metadata": {
        "colab": {
          "base_uri": "https://localhost:8080/",
          "height": 542
        },
        "id": "IM_yx4Kpa0Ml",
        "outputId": "517a1290-604a-4cf7-c2c7-a3fa2adcc34d"
      },
      "execution_count": null,
      "outputs": [
        {
          "output_type": "display_data",
          "data": {
            "text/html": [
              "<html>\n",
              "<head><meta charset=\"utf-8\" /></head>\n",
              "<body>\n",
              "    <div>            <script src=\"https://cdnjs.cloudflare.com/ajax/libs/mathjax/2.7.5/MathJax.js?config=TeX-AMS-MML_SVG\"></script><script type=\"text/javascript\">if (window.MathJax) {MathJax.Hub.Config({SVG: {font: \"STIX-Web\"}});}</script>                <script type=\"text/javascript\">window.PlotlyConfig = {MathJaxConfig: 'local'};</script>\n",
              "        <script src=\"https://cdn.plot.ly/plotly-2.8.3.min.js\"></script>                <div id=\"b7546c40-72ce-43b8-814d-5a480df4e581\" class=\"plotly-graph-div\" style=\"height:525px; width:100%;\"></div>            <script type=\"text/javascript\">                                    window.PLOTLYENV=window.PLOTLYENV || {};                                    if (document.getElementById(\"b7546c40-72ce-43b8-814d-5a480df4e581\")) {                    Plotly.newPlot(                        \"b7546c40-72ce-43b8-814d-5a480df4e581\",                        [{\"hovertemplate\":\"CP1=%{x}<br>CP2=%{y}<br>CP3=%{z}<extra></extra>\",\"legendgroup\":\"\",\"marker\":{\"color\":\"#636efa\",\"symbol\":\"circle\"},\"mode\":\"markers\",\"name\":\"\",\"scene\":\"scene\",\"showlegend\":false,\"x\":[-1.134674094640394,-0.6061512746115111,-0.6776732229767867,-0.17049701860051317,0.08855810173716547,0.7316434713641073,-0.6773146544030763,-0.7817402235114214,-1.134711191153392,-2.2973105920338366,1.236837118028859,-0.23154428990387707,-0.08340076355726903,-0.5684235925713522,-0.49111893440139937,0.835119123242395,0.22003476193581947,0.32026698260819164,1.231318398024521,1.2661961775729973,-0.17451398231799523,0.41311783992007556,0.43841454001285757,0.12429667917887458,0.8006965262498368,1.3225741148071033],\"y\":[-0.3429291162530363,2.02741726649105,-0.9905344691514694,0.5506447543739118,1.063055485441246,-0.48809846360965364,-0.9939624431414762,0.5119637755820459,-0.34642764405788384,1.6919933570523735,1.5824089023250836,-1.094100865862708,-1.980406801359461,-0.05459062883181137,0.7713728141252809,0.8093249480040382,0.7852191843056228,-0.06327198236278388,0.602192607136224,0.38845207033241347,-0.14395332328964017,-2.5161776302388654,-1.9982503753798249,0.08217995732112819,-0.0788719301939575,0.22535055124216075],\"z\":[2.367371046869691,0.7154234279095965,-0.14379757741291596,-0.14788529222728725,-0.41729707956207174,-0.4948942232381478,-0.13035727907901273,1.72825180148427,2.3645560859201353,0.7399058485991373,1.3120762920830202,0.6116537964565022,0.7084990665926841,-0.8750325682179545,-1.113364231169597,-0.20758924814982357,-0.1730212964614419,0.32253277213934217,-0.1272215510802292,-0.7133560506375012,-0.36899947364055435,-0.014983363770438624,-0.28913485957513063,-2.1893947383056958,-2.1673741666975648,-1.296567138829004],\"type\":\"scatter3d\"}],                        {\"template\":{\"data\":{\"bar\":[{\"error_x\":{\"color\":\"#2a3f5f\"},\"error_y\":{\"color\":\"#2a3f5f\"},\"marker\":{\"line\":{\"color\":\"#E5ECF6\",\"width\":0.5},\"pattern\":{\"fillmode\":\"overlay\",\"size\":10,\"solidity\":0.2}},\"type\":\"bar\"}],\"barpolar\":[{\"marker\":{\"line\":{\"color\":\"#E5ECF6\",\"width\":0.5},\"pattern\":{\"fillmode\":\"overlay\",\"size\":10,\"solidity\":0.2}},\"type\":\"barpolar\"}],\"carpet\":[{\"aaxis\":{\"endlinecolor\":\"#2a3f5f\",\"gridcolor\":\"white\",\"linecolor\":\"white\",\"minorgridcolor\":\"white\",\"startlinecolor\":\"#2a3f5f\"},\"baxis\":{\"endlinecolor\":\"#2a3f5f\",\"gridcolor\":\"white\",\"linecolor\":\"white\",\"minorgridcolor\":\"white\",\"startlinecolor\":\"#2a3f5f\"},\"type\":\"carpet\"}],\"choropleth\":[{\"colorbar\":{\"outlinewidth\":0,\"ticks\":\"\"},\"type\":\"choropleth\"}],\"contour\":[{\"colorbar\":{\"outlinewidth\":0,\"ticks\":\"\"},\"colorscale\":[[0.0,\"#0d0887\"],[0.1111111111111111,\"#46039f\"],[0.2222222222222222,\"#7201a8\"],[0.3333333333333333,\"#9c179e\"],[0.4444444444444444,\"#bd3786\"],[0.5555555555555556,\"#d8576b\"],[0.6666666666666666,\"#ed7953\"],[0.7777777777777778,\"#fb9f3a\"],[0.8888888888888888,\"#fdca26\"],[1.0,\"#f0f921\"]],\"type\":\"contour\"}],\"contourcarpet\":[{\"colorbar\":{\"outlinewidth\":0,\"ticks\":\"\"},\"type\":\"contourcarpet\"}],\"heatmap\":[{\"colorbar\":{\"outlinewidth\":0,\"ticks\":\"\"},\"colorscale\":[[0.0,\"#0d0887\"],[0.1111111111111111,\"#46039f\"],[0.2222222222222222,\"#7201a8\"],[0.3333333333333333,\"#9c179e\"],[0.4444444444444444,\"#bd3786\"],[0.5555555555555556,\"#d8576b\"],[0.6666666666666666,\"#ed7953\"],[0.7777777777777778,\"#fb9f3a\"],[0.8888888888888888,\"#fdca26\"],[1.0,\"#f0f921\"]],\"type\":\"heatmap\"}],\"heatmapgl\":[{\"colorbar\":{\"outlinewidth\":0,\"ticks\":\"\"},\"colorscale\":[[0.0,\"#0d0887\"],[0.1111111111111111,\"#46039f\"],[0.2222222222222222,\"#7201a8\"],[0.3333333333333333,\"#9c179e\"],[0.4444444444444444,\"#bd3786\"],[0.5555555555555556,\"#d8576b\"],[0.6666666666666666,\"#ed7953\"],[0.7777777777777778,\"#fb9f3a\"],[0.8888888888888888,\"#fdca26\"],[1.0,\"#f0f921\"]],\"type\":\"heatmapgl\"}],\"histogram\":[{\"marker\":{\"pattern\":{\"fillmode\":\"overlay\",\"size\":10,\"solidity\":0.2}},\"type\":\"histogram\"}],\"histogram2d\":[{\"colorbar\":{\"outlinewidth\":0,\"ticks\":\"\"},\"colorscale\":[[0.0,\"#0d0887\"],[0.1111111111111111,\"#46039f\"],[0.2222222222222222,\"#7201a8\"],[0.3333333333333333,\"#9c179e\"],[0.4444444444444444,\"#bd3786\"],[0.5555555555555556,\"#d8576b\"],[0.6666666666666666,\"#ed7953\"],[0.7777777777777778,\"#fb9f3a\"],[0.8888888888888888,\"#fdca26\"],[1.0,\"#f0f921\"]],\"type\":\"histogram2d\"}],\"histogram2dcontour\":[{\"colorbar\":{\"outlinewidth\":0,\"ticks\":\"\"},\"colorscale\":[[0.0,\"#0d0887\"],[0.1111111111111111,\"#46039f\"],[0.2222222222222222,\"#7201a8\"],[0.3333333333333333,\"#9c179e\"],[0.4444444444444444,\"#bd3786\"],[0.5555555555555556,\"#d8576b\"],[0.6666666666666666,\"#ed7953\"],[0.7777777777777778,\"#fb9f3a\"],[0.8888888888888888,\"#fdca26\"],[1.0,\"#f0f921\"]],\"type\":\"histogram2dcontour\"}],\"mesh3d\":[{\"colorbar\":{\"outlinewidth\":0,\"ticks\":\"\"},\"type\":\"mesh3d\"}],\"parcoords\":[{\"line\":{\"colorbar\":{\"outlinewidth\":0,\"ticks\":\"\"}},\"type\":\"parcoords\"}],\"pie\":[{\"automargin\":true,\"type\":\"pie\"}],\"scatter\":[{\"marker\":{\"colorbar\":{\"outlinewidth\":0,\"ticks\":\"\"}},\"type\":\"scatter\"}],\"scatter3d\":[{\"line\":{\"colorbar\":{\"outlinewidth\":0,\"ticks\":\"\"}},\"marker\":{\"colorbar\":{\"outlinewidth\":0,\"ticks\":\"\"}},\"type\":\"scatter3d\"}],\"scattercarpet\":[{\"marker\":{\"colorbar\":{\"outlinewidth\":0,\"ticks\":\"\"}},\"type\":\"scattercarpet\"}],\"scattergeo\":[{\"marker\":{\"colorbar\":{\"outlinewidth\":0,\"ticks\":\"\"}},\"type\":\"scattergeo\"}],\"scattergl\":[{\"marker\":{\"colorbar\":{\"outlinewidth\":0,\"ticks\":\"\"}},\"type\":\"scattergl\"}],\"scattermapbox\":[{\"marker\":{\"colorbar\":{\"outlinewidth\":0,\"ticks\":\"\"}},\"type\":\"scattermapbox\"}],\"scatterpolar\":[{\"marker\":{\"colorbar\":{\"outlinewidth\":0,\"ticks\":\"\"}},\"type\":\"scatterpolar\"}],\"scatterpolargl\":[{\"marker\":{\"colorbar\":{\"outlinewidth\":0,\"ticks\":\"\"}},\"type\":\"scatterpolargl\"}],\"scatterternary\":[{\"marker\":{\"colorbar\":{\"outlinewidth\":0,\"ticks\":\"\"}},\"type\":\"scatterternary\"}],\"surface\":[{\"colorbar\":{\"outlinewidth\":0,\"ticks\":\"\"},\"colorscale\":[[0.0,\"#0d0887\"],[0.1111111111111111,\"#46039f\"],[0.2222222222222222,\"#7201a8\"],[0.3333333333333333,\"#9c179e\"],[0.4444444444444444,\"#bd3786\"],[0.5555555555555556,\"#d8576b\"],[0.6666666666666666,\"#ed7953\"],[0.7777777777777778,\"#fb9f3a\"],[0.8888888888888888,\"#fdca26\"],[1.0,\"#f0f921\"]],\"type\":\"surface\"}],\"table\":[{\"cells\":{\"fill\":{\"color\":\"#EBF0F8\"},\"line\":{\"color\":\"white\"}},\"header\":{\"fill\":{\"color\":\"#C8D4E3\"},\"line\":{\"color\":\"white\"}},\"type\":\"table\"}]},\"layout\":{\"annotationdefaults\":{\"arrowcolor\":\"#2a3f5f\",\"arrowhead\":0,\"arrowwidth\":1},\"autotypenumbers\":\"strict\",\"coloraxis\":{\"colorbar\":{\"outlinewidth\":0,\"ticks\":\"\"}},\"colorscale\":{\"diverging\":[[0,\"#8e0152\"],[0.1,\"#c51b7d\"],[0.2,\"#de77ae\"],[0.3,\"#f1b6da\"],[0.4,\"#fde0ef\"],[0.5,\"#f7f7f7\"],[0.6,\"#e6f5d0\"],[0.7,\"#b8e186\"],[0.8,\"#7fbc41\"],[0.9,\"#4d9221\"],[1,\"#276419\"]],\"sequential\":[[0.0,\"#0d0887\"],[0.1111111111111111,\"#46039f\"],[0.2222222222222222,\"#7201a8\"],[0.3333333333333333,\"#9c179e\"],[0.4444444444444444,\"#bd3786\"],[0.5555555555555556,\"#d8576b\"],[0.6666666666666666,\"#ed7953\"],[0.7777777777777778,\"#fb9f3a\"],[0.8888888888888888,\"#fdca26\"],[1.0,\"#f0f921\"]],\"sequentialminus\":[[0.0,\"#0d0887\"],[0.1111111111111111,\"#46039f\"],[0.2222222222222222,\"#7201a8\"],[0.3333333333333333,\"#9c179e\"],[0.4444444444444444,\"#bd3786\"],[0.5555555555555556,\"#d8576b\"],[0.6666666666666666,\"#ed7953\"],[0.7777777777777778,\"#fb9f3a\"],[0.8888888888888888,\"#fdca26\"],[1.0,\"#f0f921\"]]},\"colorway\":[\"#636efa\",\"#EF553B\",\"#00cc96\",\"#ab63fa\",\"#FFA15A\",\"#19d3f3\",\"#FF6692\",\"#B6E880\",\"#FF97FF\",\"#FECB52\"],\"font\":{\"color\":\"#2a3f5f\"},\"geo\":{\"bgcolor\":\"white\",\"lakecolor\":\"white\",\"landcolor\":\"#E5ECF6\",\"showlakes\":true,\"showland\":true,\"subunitcolor\":\"white\"},\"hoverlabel\":{\"align\":\"left\"},\"hovermode\":\"closest\",\"mapbox\":{\"style\":\"light\"},\"paper_bgcolor\":\"white\",\"plot_bgcolor\":\"#E5ECF6\",\"polar\":{\"angularaxis\":{\"gridcolor\":\"white\",\"linecolor\":\"white\",\"ticks\":\"\"},\"bgcolor\":\"#E5ECF6\",\"radialaxis\":{\"gridcolor\":\"white\",\"linecolor\":\"white\",\"ticks\":\"\"}},\"scene\":{\"xaxis\":{\"backgroundcolor\":\"#E5ECF6\",\"gridcolor\":\"white\",\"gridwidth\":2,\"linecolor\":\"white\",\"showbackground\":true,\"ticks\":\"\",\"zerolinecolor\":\"white\"},\"yaxis\":{\"backgroundcolor\":\"#E5ECF6\",\"gridcolor\":\"white\",\"gridwidth\":2,\"linecolor\":\"white\",\"showbackground\":true,\"ticks\":\"\",\"zerolinecolor\":\"white\"},\"zaxis\":{\"backgroundcolor\":\"#E5ECF6\",\"gridcolor\":\"white\",\"gridwidth\":2,\"linecolor\":\"white\",\"showbackground\":true,\"ticks\":\"\",\"zerolinecolor\":\"white\"}},\"shapedefaults\":{\"line\":{\"color\":\"#2a3f5f\"}},\"ternary\":{\"aaxis\":{\"gridcolor\":\"white\",\"linecolor\":\"white\",\"ticks\":\"\"},\"baxis\":{\"gridcolor\":\"white\",\"linecolor\":\"white\",\"ticks\":\"\"},\"bgcolor\":\"#E5ECF6\",\"caxis\":{\"gridcolor\":\"white\",\"linecolor\":\"white\",\"ticks\":\"\"}},\"title\":{\"x\":0.05},\"xaxis\":{\"automargin\":true,\"gridcolor\":\"white\",\"linecolor\":\"white\",\"ticks\":\"\",\"title\":{\"standoff\":15},\"zerolinecolor\":\"white\",\"zerolinewidth\":2},\"yaxis\":{\"automargin\":true,\"gridcolor\":\"white\",\"linecolor\":\"white\",\"ticks\":\"\",\"title\":{\"standoff\":15},\"zerolinecolor\":\"white\",\"zerolinewidth\":2}}},\"scene\":{\"domain\":{\"x\":[0.0,1.0],\"y\":[0.0,1.0]},\"xaxis\":{\"title\":{\"text\":\"CP1\"}},\"yaxis\":{\"title\":{\"text\":\"CP2\"}},\"zaxis\":{\"title\":{\"text\":\"CP3\"}}},\"legend\":{\"tracegroupgap\":0},\"margin\":{\"t\":60}},                        {\"responsive\": true}                    ).then(function(){\n",
              "                            \n",
              "var gd = document.getElementById('b7546c40-72ce-43b8-814d-5a480df4e581');\n",
              "var x = new MutationObserver(function (mutations, observer) {{\n",
              "        var display = window.getComputedStyle(gd).display;\n",
              "        if (!display || display === 'none') {{\n",
              "            console.log([gd, 'removed!']);\n",
              "            Plotly.purge(gd);\n",
              "            observer.disconnect();\n",
              "        }}\n",
              "}});\n",
              "\n",
              "// Listen for the removal of the full notebook cells\n",
              "var notebookContainer = gd.closest('#notebook-container');\n",
              "if (notebookContainer) {{\n",
              "    x.observe(notebookContainer, {childList: true});\n",
              "}}\n",
              "\n",
              "// Listen for the clearing of the current output cell\n",
              "var outputEl = gd.closest('.output');\n",
              "if (outputEl) {{\n",
              "    x.observe(outputEl, {childList: true});\n",
              "}}\n",
              "\n",
              "                        })                };                            </script>        </div>\n",
              "</body>\n",
              "</html>"
            ]
          },
          "metadata": {}
        }
      ]
    },
    {
      "cell_type": "code",
      "source": [
        "\n",
        "\n",
        "\n",
        "sns.set(style=\"darkgrid\")\n",
        "\n",
        "# creation des deux graphes\n",
        "fig, axs =  plt.subplots(2, 3, figsize = (20, 10) )\n",
        "\n",
        "axs[0,0].scatter(X_CP1_Sklearn,X_CP2_Sklearn, label=\"Sklearn\")\n",
        "axs[0,0].set_xlabel(\"CP1\")\n",
        "axs[0,0].set_ylabel(\"CP2\")\n",
        "\n",
        "axs[0,1].scatter(X_CP1_Sklearn,X_CP3_Sklearn, label=\"Sklearn\")\n",
        "axs[0,1].set_xlabel(\"CP2\")\n",
        "axs[0,1].set_ylabel(\"CP3\")\n",
        "\n",
        "\n",
        "axs[1,1].scatter(X_CP1_Sklearn,X_CP4_Sklearn, label=\"Sklearn\")\n",
        "axs[1,1].set_xlabel(\"CP1\")\n",
        "axs[1,1].set_ylabel(\"CP4\")\n",
        "\n",
        "\n",
        "axs[0,2].scatter(X_CP2_Sklearn,X_CP3_Sklearn, label=\"Sklearn\")\n",
        "axs[0,2].set_xlabel(\"CP2\")\n",
        "axs[0,2].set_ylabel(\"CP3\")\n",
        "\n",
        "\n",
        "axs[1,0].scatter(X_CP2_Sklearn,X_CP4_Sklearn, label=\"Sklearn\")\n",
        "axs[1,0].set_xlabel(\"CP2\")\n",
        "axs[1,0].set_ylabel(\"CP4\")\n",
        "\n",
        "\n",
        "axs[1,2].scatter(X_CP3_Sklearn,X_CP4_Sklearn, label=\"Sklearn\")\n",
        "axs[1,2].set_xlabel(\"CP3\")\n",
        "axs[1,2].set_ylabel(\"CP4\")\n",
        "\n",
        "\n",
        "# on affiche\n",
        "plt.show()"
      ],
      "metadata": {
        "colab": {
          "base_uri": "https://localhost:8080/",
          "height": 611
        },
        "id": "mYvnpfiUhjNg",
        "outputId": "1495c436-8175-477f-d097-add3265f674b"
      },
      "execution_count": null,
      "outputs": [
        {
          "output_type": "display_data",
          "data": {
            "text/plain": [
              "<Figure size 1440x720 with 6 Axes>"
            ],
            "image/png": "[encoded data removed]"
          },
          "metadata": {}
        }
      ]
    }
  ]
}